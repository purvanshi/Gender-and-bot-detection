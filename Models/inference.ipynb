{
 "cells": [
  {
   "cell_type": "code",
   "execution_count": 10,
   "metadata": {},
   "outputs": [],
   "source": [
    "import pandas as pd\n",
    "import numpy as np\n",
    "import pickle\n",
    "import os\n",
    "import copy"
   ]
  },
  {
   "cell_type": "code",
   "execution_count": 11,
   "metadata": {},
   "outputs": [],
   "source": [
    "from sklearn.model_selection import train_test_split\n",
    "from sklearn.preprocessing import StandardScaler\n",
    "from sklearn.metrics import precision_recall_fscore_support, classification_report"
   ]
  },
  {
   "cell_type": "markdown",
   "metadata": {},
   "source": [
    "## Read data"
   ]
  },
  {
   "cell_type": "code",
   "execution_count": 12,
   "metadata": {},
   "outputs": [],
   "source": [
    "fName = ['id', 'avg_ADJ', 'avg_ADP', 'avg_ADV', 'avg_AUX', 'avg_CCONJ', 'avg_CONJ', 'avg_DET', 'avg_EOL', 'avg_INTJ', 'avg_NOUN', 'avg_NO_TAG', 'avg_NUM', 'avg_PART', 'avg_PRON', 'avg_PROPN', 'avg_PUNCT', 'avg_SCONJ', 'avg_SPACE', 'avg_SYM', 'avg_Tops', 'avg_VERB', 'avg_X', 'avg_act', 'avg_adjectives_for_people', 'avg_animal', 'avg_april_fool', 'avg_art', 'avg_artifact', 'avg_astronomy', 'avg_attribute', 'avg_baseball', 'avg_bathroom', 'avg_beach', 'avg_big', 'avg_biomes', 'avg_birds', 'avg_birthday', 'avg_boat', 'avg_bodies_of_water', 'avg_body', 'avg_buildings', 'avg_camping', 'avg_car', 'avg_carnival', 'avg_carparts', 'avg_castle', 'avg_cats', 'avg_change', 'avg_christmas', 'avg_circus', 'avg_clothes', 'avg_cognition', 'avg_colors', 'avg_communication', 'avg_competition', 'avg_computer', 'avg_constitution', 'avg_consumption', 'avg_contact', 'avg_container', 'avg_cooking', 'avg_cooking_tools', 'avg_country', 'avg_creation', 'avg_dance', 'avg_dentist', 'avg_desserts', 'avg_doctor', 'avg_dogs', 'avg_driving', 'avg_election', 'avg_emotion', 'avg_emotions', 'avg_energy', 'avg_event', 'avg_fall', 'avg_family', 'avg_farm', 'avg_feeling', 'avg_fish', 'avg_flowers', 'avg_food', 'avg_foodweb', 'avg_fruit', 'avg_furniture', 'avg_geography', 'avg_grammar', 'avg_group', 'avg_happiness', 'avg_happy', 'avg_house', 'avg_housing', 'avg_insect', 'avg_jobs', 'avg_kitchen', 'avg_land_forms', 'avg_languages', 'avg_leaders', 'avg_legal', 'avg_location', 'avg_mammal', 'avg_many', 'avg_math', 'avg_maxWordAppearancePerTweet', 'avg_measurement', 'avg_metals', 'avg_military', 'avg_money', 'avg_motion', 'avg_motive', 'avg_music_theory', 'avg_musical_instruments', 'avg_mythical_beasts', 'avg_negative_words', 'avg_new_year', 'avg_noURL', 'avg_nocf', 'avg_noclPerWord', 'avg_noe', 'avg_nos', 'avg_now', 'avg_nowr', 'avg_object', 'avg_ocean', 'avg_office', 'avg_people', 'avg_perception', 'avg_person', 'avg_phenomenon', 'avg_pirate', 'avg_plant', 'avg_plants', 'avg_positive_words', 'avg_possession', 'avg_postal', 'avg_process', 'avg_quantity', 'avg_readabilityScore', 'avg_relation', 'avg_reptiles', 'avg_restaurant', 'avg_roadways', 'avg_rocks', 'avg_rooms', 'avg_school', 'avg_science', 'avg_sciences', 'avg_shape', 'avg_social', 'avg_state', 'avg_stative', 'avg_substance', 'avg_time', 'avg_tree', 'avg_vacation', 'avg_valentine', 'avg_vegetables', 'avg_virtues', 'avg_water', 'avg_weapons', 'avg_weather', 'avg_winter', 'avg_yard', 'maxWordAppearancePerProfile']\n",
    "# len(fName)"
   ]
  },
  {
   "cell_type": "code",
   "execution_count": 13,
   "metadata": {
    "scrolled": true
   },
   "outputs": [],
   "source": [
    "csv_dir = \"../pan19-author-profiling-training-2019-01-28/\"\n",
    "df = pd.read_csv(csv_dir+\"test_features.txt\", sep='\\t', header=None, names=fName, encoding='utf-8-sig')"
   ]
  },
  {
   "cell_type": "code",
   "execution_count": 14,
   "metadata": {},
   "outputs": [
    {
     "data": {
      "text/html": [
       "<div>\n",
       "<style scoped>\n",
       "    .dataframe tbody tr th:only-of-type {\n",
       "        vertical-align: middle;\n",
       "    }\n",
       "\n",
       "    .dataframe tbody tr th {\n",
       "        vertical-align: top;\n",
       "    }\n",
       "\n",
       "    .dataframe thead th {\n",
       "        text-align: right;\n",
       "    }\n",
       "</style>\n",
       "<table border=\"1\" class=\"dataframe\">\n",
       "  <thead>\n",
       "    <tr style=\"text-align: right;\">\n",
       "      <th></th>\n",
       "      <th>id</th>\n",
       "      <th>avg_ADJ</th>\n",
       "      <th>avg_ADP</th>\n",
       "      <th>avg_ADV</th>\n",
       "      <th>avg_AUX</th>\n",
       "      <th>avg_CCONJ</th>\n",
       "      <th>avg_CONJ</th>\n",
       "      <th>avg_DET</th>\n",
       "      <th>avg_EOL</th>\n",
       "      <th>avg_INTJ</th>\n",
       "      <th>...</th>\n",
       "      <th>avg_vacation</th>\n",
       "      <th>avg_valentine</th>\n",
       "      <th>avg_vegetables</th>\n",
       "      <th>avg_virtues</th>\n",
       "      <th>avg_water</th>\n",
       "      <th>avg_weapons</th>\n",
       "      <th>avg_weather</th>\n",
       "      <th>avg_winter</th>\n",
       "      <th>avg_yard</th>\n",
       "      <th>maxWordAppearancePerProfile</th>\n",
       "    </tr>\n",
       "  </thead>\n",
       "  <tbody>\n",
       "    <tr>\n",
       "      <th>0</th>\n",
       "      <td>1008c35dc72c34ead679c539a0ed7c24</td>\n",
       "      <td>1.46</td>\n",
       "      <td>1.36</td>\n",
       "      <td>0.96</td>\n",
       "      <td>0.0</td>\n",
       "      <td>0.20</td>\n",
       "      <td>0.0</td>\n",
       "      <td>1.48</td>\n",
       "      <td>0.0</td>\n",
       "      <td>0.16</td>\n",
       "      <td>...</td>\n",
       "      <td>0.26</td>\n",
       "      <td>0.08</td>\n",
       "      <td>0.0</td>\n",
       "      <td>0.13</td>\n",
       "      <td>0.01</td>\n",
       "      <td>0.00</td>\n",
       "      <td>0.25</td>\n",
       "      <td>0.00</td>\n",
       "      <td>0.02</td>\n",
       "      <td>108</td>\n",
       "    </tr>\n",
       "    <tr>\n",
       "      <th>1</th>\n",
       "      <td>100e80cf6283b11b25f05f4d673947ea</td>\n",
       "      <td>1.32</td>\n",
       "      <td>1.85</td>\n",
       "      <td>1.05</td>\n",
       "      <td>0.0</td>\n",
       "      <td>0.23</td>\n",
       "      <td>0.0</td>\n",
       "      <td>1.28</td>\n",
       "      <td>0.0</td>\n",
       "      <td>0.11</td>\n",
       "      <td>...</td>\n",
       "      <td>0.20</td>\n",
       "      <td>0.05</td>\n",
       "      <td>0.0</td>\n",
       "      <td>0.07</td>\n",
       "      <td>0.02</td>\n",
       "      <td>0.01</td>\n",
       "      <td>0.15</td>\n",
       "      <td>0.02</td>\n",
       "      <td>0.02</td>\n",
       "      <td>106</td>\n",
       "    </tr>\n",
       "    <tr>\n",
       "      <th>2</th>\n",
       "      <td>10142b769515b97369d36b9c0c47383b</td>\n",
       "      <td>1.11</td>\n",
       "      <td>1.98</td>\n",
       "      <td>0.90</td>\n",
       "      <td>0.0</td>\n",
       "      <td>0.37</td>\n",
       "      <td>0.0</td>\n",
       "      <td>1.43</td>\n",
       "      <td>0.0</td>\n",
       "      <td>0.07</td>\n",
       "      <td>...</td>\n",
       "      <td>0.50</td>\n",
       "      <td>0.05</td>\n",
       "      <td>0.0</td>\n",
       "      <td>0.04</td>\n",
       "      <td>0.04</td>\n",
       "      <td>0.03</td>\n",
       "      <td>0.20</td>\n",
       "      <td>0.02</td>\n",
       "      <td>0.03</td>\n",
       "      <td>106</td>\n",
       "    </tr>\n",
       "    <tr>\n",
       "      <th>3</th>\n",
       "      <td>1014403fecf2a8ac15264e80e6513450</td>\n",
       "      <td>1.17</td>\n",
       "      <td>1.49</td>\n",
       "      <td>0.78</td>\n",
       "      <td>0.0</td>\n",
       "      <td>0.23</td>\n",
       "      <td>0.0</td>\n",
       "      <td>1.17</td>\n",
       "      <td>0.0</td>\n",
       "      <td>0.06</td>\n",
       "      <td>...</td>\n",
       "      <td>0.42</td>\n",
       "      <td>0.04</td>\n",
       "      <td>0.0</td>\n",
       "      <td>0.11</td>\n",
       "      <td>0.13</td>\n",
       "      <td>0.00</td>\n",
       "      <td>0.32</td>\n",
       "      <td>0.14</td>\n",
       "      <td>0.05</td>\n",
       "      <td>102</td>\n",
       "    </tr>\n",
       "    <tr>\n",
       "      <th>4</th>\n",
       "      <td>1023e968a8aa69cf5b659aa57a478f64</td>\n",
       "      <td>0.78</td>\n",
       "      <td>1.27</td>\n",
       "      <td>0.35</td>\n",
       "      <td>0.0</td>\n",
       "      <td>0.27</td>\n",
       "      <td>0.0</td>\n",
       "      <td>0.49</td>\n",
       "      <td>0.0</td>\n",
       "      <td>0.05</td>\n",
       "      <td>...</td>\n",
       "      <td>0.21</td>\n",
       "      <td>0.03</td>\n",
       "      <td>0.0</td>\n",
       "      <td>0.04</td>\n",
       "      <td>0.02</td>\n",
       "      <td>0.01</td>\n",
       "      <td>0.06</td>\n",
       "      <td>0.00</td>\n",
       "      <td>0.00</td>\n",
       "      <td>118</td>\n",
       "    </tr>\n",
       "  </tbody>\n",
       "</table>\n",
       "<p>5 rows × 165 columns</p>\n",
       "</div>"
      ],
      "text/plain": [
       "                                 id  avg_ADJ  avg_ADP  avg_ADV  avg_AUX  \\\n",
       "0  1008c35dc72c34ead679c539a0ed7c24     1.46     1.36     0.96      0.0   \n",
       "1  100e80cf6283b11b25f05f4d673947ea     1.32     1.85     1.05      0.0   \n",
       "2  10142b769515b97369d36b9c0c47383b     1.11     1.98     0.90      0.0   \n",
       "3  1014403fecf2a8ac15264e80e6513450     1.17     1.49     0.78      0.0   \n",
       "4  1023e968a8aa69cf5b659aa57a478f64     0.78     1.27     0.35      0.0   \n",
       "\n",
       "   avg_CCONJ  avg_CONJ  avg_DET  avg_EOL  avg_INTJ  ...  avg_vacation  \\\n",
       "0       0.20       0.0     1.48      0.0      0.16  ...          0.26   \n",
       "1       0.23       0.0     1.28      0.0      0.11  ...          0.20   \n",
       "2       0.37       0.0     1.43      0.0      0.07  ...          0.50   \n",
       "3       0.23       0.0     1.17      0.0      0.06  ...          0.42   \n",
       "4       0.27       0.0     0.49      0.0      0.05  ...          0.21   \n",
       "\n",
       "   avg_valentine  avg_vegetables  avg_virtues  avg_water  avg_weapons  \\\n",
       "0           0.08             0.0         0.13       0.01         0.00   \n",
       "1           0.05             0.0         0.07       0.02         0.01   \n",
       "2           0.05             0.0         0.04       0.04         0.03   \n",
       "3           0.04             0.0         0.11       0.13         0.00   \n",
       "4           0.03             0.0         0.04       0.02         0.01   \n",
       "\n",
       "   avg_weather  avg_winter  avg_yard  maxWordAppearancePerProfile  \n",
       "0         0.25        0.00      0.02                          108  \n",
       "1         0.15        0.02      0.02                          106  \n",
       "2         0.20        0.02      0.03                          106  \n",
       "3         0.32        0.14      0.05                          102  \n",
       "4         0.06        0.00      0.00                          118  \n",
       "\n",
       "[5 rows x 165 columns]"
      ]
     },
     "execution_count": 14,
     "metadata": {},
     "output_type": "execute_result"
    }
   ],
   "source": [
    "df.head()"
   ]
  },
  {
   "cell_type": "code",
   "execution_count": 15,
   "metadata": {},
   "outputs": [],
   "source": [
    "import _pickle as cPickle"
   ]
  },
  {
   "cell_type": "code",
   "execution_count": 16,
   "metadata": {},
   "outputs": [],
   "source": [
    "with open('ada1.pkl', 'rb') as fid:\n",
    "    gnb_loaded = cPickle.load(fid)"
   ]
  },
  {
   "cell_type": "code",
   "execution_count": 17,
   "metadata": {},
   "outputs": [],
   "source": [
    "with open('ada2.pkl', 'rb') as fid:\n",
    "    gnb_loaded2 = cPickle.load(fid)"
   ]
  },
  {
   "cell_type": "code",
   "execution_count": 18,
   "metadata": {},
   "outputs": [
    {
     "data": {
      "text/html": [
       "<div>\n",
       "<style scoped>\n",
       "    .dataframe tbody tr th:only-of-type {\n",
       "        vertical-align: middle;\n",
       "    }\n",
       "\n",
       "    .dataframe tbody tr th {\n",
       "        vertical-align: top;\n",
       "    }\n",
       "\n",
       "    .dataframe thead th {\n",
       "        text-align: right;\n",
       "    }\n",
       "</style>\n",
       "<table border=\"1\" class=\"dataframe\">\n",
       "  <thead>\n",
       "    <tr style=\"text-align: right;\">\n",
       "      <th></th>\n",
       "      <th>id</th>\n",
       "      <th>avg_ADJ</th>\n",
       "      <th>avg_ADP</th>\n",
       "      <th>avg_ADV</th>\n",
       "      <th>avg_AUX</th>\n",
       "      <th>avg_CCONJ</th>\n",
       "      <th>avg_CONJ</th>\n",
       "      <th>avg_DET</th>\n",
       "      <th>avg_EOL</th>\n",
       "      <th>avg_INTJ</th>\n",
       "      <th>...</th>\n",
       "      <th>avg_vacation</th>\n",
       "      <th>avg_valentine</th>\n",
       "      <th>avg_vegetables</th>\n",
       "      <th>avg_virtues</th>\n",
       "      <th>avg_water</th>\n",
       "      <th>avg_weapons</th>\n",
       "      <th>avg_weather</th>\n",
       "      <th>avg_winter</th>\n",
       "      <th>avg_yard</th>\n",
       "      <th>maxWordAppearancePerProfile</th>\n",
       "    </tr>\n",
       "  </thead>\n",
       "  <tbody>\n",
       "    <tr>\n",
       "      <th>0</th>\n",
       "      <td>1008c35dc72c34ead679c539a0ed7c24</td>\n",
       "      <td>1.46</td>\n",
       "      <td>1.36</td>\n",
       "      <td>0.96</td>\n",
       "      <td>0.0</td>\n",
       "      <td>0.20</td>\n",
       "      <td>0.0</td>\n",
       "      <td>1.48</td>\n",
       "      <td>0.0</td>\n",
       "      <td>0.16</td>\n",
       "      <td>...</td>\n",
       "      <td>0.26</td>\n",
       "      <td>0.08</td>\n",
       "      <td>0.0</td>\n",
       "      <td>0.13</td>\n",
       "      <td>0.01</td>\n",
       "      <td>0.00</td>\n",
       "      <td>0.25</td>\n",
       "      <td>0.00</td>\n",
       "      <td>0.02</td>\n",
       "      <td>108</td>\n",
       "    </tr>\n",
       "    <tr>\n",
       "      <th>1</th>\n",
       "      <td>100e80cf6283b11b25f05f4d673947ea</td>\n",
       "      <td>1.32</td>\n",
       "      <td>1.85</td>\n",
       "      <td>1.05</td>\n",
       "      <td>0.0</td>\n",
       "      <td>0.23</td>\n",
       "      <td>0.0</td>\n",
       "      <td>1.28</td>\n",
       "      <td>0.0</td>\n",
       "      <td>0.11</td>\n",
       "      <td>...</td>\n",
       "      <td>0.20</td>\n",
       "      <td>0.05</td>\n",
       "      <td>0.0</td>\n",
       "      <td>0.07</td>\n",
       "      <td>0.02</td>\n",
       "      <td>0.01</td>\n",
       "      <td>0.15</td>\n",
       "      <td>0.02</td>\n",
       "      <td>0.02</td>\n",
       "      <td>106</td>\n",
       "    </tr>\n",
       "    <tr>\n",
       "      <th>2</th>\n",
       "      <td>10142b769515b97369d36b9c0c47383b</td>\n",
       "      <td>1.11</td>\n",
       "      <td>1.98</td>\n",
       "      <td>0.90</td>\n",
       "      <td>0.0</td>\n",
       "      <td>0.37</td>\n",
       "      <td>0.0</td>\n",
       "      <td>1.43</td>\n",
       "      <td>0.0</td>\n",
       "      <td>0.07</td>\n",
       "      <td>...</td>\n",
       "      <td>0.50</td>\n",
       "      <td>0.05</td>\n",
       "      <td>0.0</td>\n",
       "      <td>0.04</td>\n",
       "      <td>0.04</td>\n",
       "      <td>0.03</td>\n",
       "      <td>0.20</td>\n",
       "      <td>0.02</td>\n",
       "      <td>0.03</td>\n",
       "      <td>106</td>\n",
       "    </tr>\n",
       "    <tr>\n",
       "      <th>3</th>\n",
       "      <td>1014403fecf2a8ac15264e80e6513450</td>\n",
       "      <td>1.17</td>\n",
       "      <td>1.49</td>\n",
       "      <td>0.78</td>\n",
       "      <td>0.0</td>\n",
       "      <td>0.23</td>\n",
       "      <td>0.0</td>\n",
       "      <td>1.17</td>\n",
       "      <td>0.0</td>\n",
       "      <td>0.06</td>\n",
       "      <td>...</td>\n",
       "      <td>0.42</td>\n",
       "      <td>0.04</td>\n",
       "      <td>0.0</td>\n",
       "      <td>0.11</td>\n",
       "      <td>0.13</td>\n",
       "      <td>0.00</td>\n",
       "      <td>0.32</td>\n",
       "      <td>0.14</td>\n",
       "      <td>0.05</td>\n",
       "      <td>102</td>\n",
       "    </tr>\n",
       "    <tr>\n",
       "      <th>4</th>\n",
       "      <td>1023e968a8aa69cf5b659aa57a478f64</td>\n",
       "      <td>0.78</td>\n",
       "      <td>1.27</td>\n",
       "      <td>0.35</td>\n",
       "      <td>0.0</td>\n",
       "      <td>0.27</td>\n",
       "      <td>0.0</td>\n",
       "      <td>0.49</td>\n",
       "      <td>0.0</td>\n",
       "      <td>0.05</td>\n",
       "      <td>...</td>\n",
       "      <td>0.21</td>\n",
       "      <td>0.03</td>\n",
       "      <td>0.0</td>\n",
       "      <td>0.04</td>\n",
       "      <td>0.02</td>\n",
       "      <td>0.01</td>\n",
       "      <td>0.06</td>\n",
       "      <td>0.00</td>\n",
       "      <td>0.00</td>\n",
       "      <td>118</td>\n",
       "    </tr>\n",
       "  </tbody>\n",
       "</table>\n",
       "<p>5 rows × 165 columns</p>\n",
       "</div>"
      ],
      "text/plain": [
       "                                 id  avg_ADJ  avg_ADP  avg_ADV  avg_AUX  \\\n",
       "0  1008c35dc72c34ead679c539a0ed7c24     1.46     1.36     0.96      0.0   \n",
       "1  100e80cf6283b11b25f05f4d673947ea     1.32     1.85     1.05      0.0   \n",
       "2  10142b769515b97369d36b9c0c47383b     1.11     1.98     0.90      0.0   \n",
       "3  1014403fecf2a8ac15264e80e6513450     1.17     1.49     0.78      0.0   \n",
       "4  1023e968a8aa69cf5b659aa57a478f64     0.78     1.27     0.35      0.0   \n",
       "\n",
       "   avg_CCONJ  avg_CONJ  avg_DET  avg_EOL  avg_INTJ  ...  avg_vacation  \\\n",
       "0       0.20       0.0     1.48      0.0      0.16  ...          0.26   \n",
       "1       0.23       0.0     1.28      0.0      0.11  ...          0.20   \n",
       "2       0.37       0.0     1.43      0.0      0.07  ...          0.50   \n",
       "3       0.23       0.0     1.17      0.0      0.06  ...          0.42   \n",
       "4       0.27       0.0     0.49      0.0      0.05  ...          0.21   \n",
       "\n",
       "   avg_valentine  avg_vegetables  avg_virtues  avg_water  avg_weapons  \\\n",
       "0           0.08             0.0         0.13       0.01         0.00   \n",
       "1           0.05             0.0         0.07       0.02         0.01   \n",
       "2           0.05             0.0         0.04       0.04         0.03   \n",
       "3           0.04             0.0         0.11       0.13         0.00   \n",
       "4           0.03             0.0         0.04       0.02         0.01   \n",
       "\n",
       "   avg_weather  avg_winter  avg_yard  maxWordAppearancePerProfile  \n",
       "0         0.25        0.00      0.02                          108  \n",
       "1         0.15        0.02      0.02                          106  \n",
       "2         0.20        0.02      0.03                          106  \n",
       "3         0.32        0.14      0.05                          102  \n",
       "4         0.06        0.00      0.00                          118  \n",
       "\n",
       "[5 rows x 165 columns]"
      ]
     },
     "execution_count": 18,
     "metadata": {},
     "output_type": "execute_result"
    }
   ],
   "source": [
    "df.head()"
   ]
  },
  {
   "cell_type": "code",
   "execution_count": 20,
   "metadata": {},
   "outputs": [],
   "source": [
    "def get_data():\n",
    "    nCols = df.shape[1]\n",
    "    nFeatures = nCols\n",
    "    author_id=df.iloc[:, 0]\n",
    "    X = df.iloc[:, 1:nFeatures]\n",
    "#     y_bot = df.iloc[:, nFeatures+1]\n",
    "#     y_gender = df.iloc[:, nFeatures+2]\n",
    "    return author_id,X"
   ]
  },
  {
   "cell_type": "code",
   "execution_count": 22,
   "metadata": {},
   "outputs": [],
   "source": [
    "author_id,X=get_data()"
   ]
  },
  {
   "cell_type": "code",
   "execution_count": 23,
   "metadata": {},
   "outputs": [],
   "source": [
    "def standardize(X_train):\n",
    "    cols = X_train.columns\n",
    "    scaler = StandardScaler(copy=True, with_mean=True, with_std=True)\n",
    "    X_train = scaler.fit_transform(X_train)\n",
    "    X_train = pd.DataFrame(X_train, columns=cols)\n",
    "    return X_train"
   ]
  },
  {
   "cell_type": "code",
   "execution_count": 24,
   "metadata": {},
   "outputs": [
    {
     "name": "stderr",
     "output_type": "stream",
     "text": [
      "/data/home/mehta/multimodal/lib/python3.5/site-packages/sklearn/preprocessing/data.py:625: DataConversionWarning: Data with input dtype int64, float64 were all converted to float64 by StandardScaler.\n",
      "  return self.partial_fit(X, y)\n",
      "/data/home/mehta/multimodal/lib/python3.5/site-packages/sklearn/base.py:462: DataConversionWarning: Data with input dtype int64, float64 were all converted to float64 by StandardScaler.\n",
      "  return self.fit(X, **fit_params).transform(X)\n"
     ]
    }
   ],
   "source": [
    "X=standardize(X)"
   ]
  },
  {
   "cell_type": "code",
   "execution_count": 25,
   "metadata": {},
   "outputs": [
    {
     "data": {
      "text/plain": [
       "(4120, 159)"
      ]
     },
     "execution_count": 25,
     "metadata": {},
     "output_type": "execute_result"
    }
   ],
   "source": [
    "nunique = X.apply(pd.Series.nunique)\n",
    "cols_to_drop = nunique[nunique == 1].index\n",
    "X = X.drop(cols_to_drop, axis=1)\n",
    "# X_dev = X_dev.drop(cols_to_drop, axis=1)\n",
    "X.shape"
   ]
  },
  {
   "cell_type": "code",
   "execution_count": 26,
   "metadata": {},
   "outputs": [],
   "source": [
    "genderprediction=gnb_loaded2.predict(X)"
   ]
  },
  {
   "cell_type": "code",
   "execution_count": 27,
   "metadata": {},
   "outputs": [],
   "source": [
    "botprediction=gnb_loaded.predict(X)"
   ]
  },
  {
   "cell_type": "code",
   "execution_count": 28,
   "metadata": {},
   "outputs": [
    {
     "data": {
      "text/plain": [
       "4120"
      ]
     },
     "execution_count": 28,
     "metadata": {},
     "output_type": "execute_result"
    }
   ],
   "source": [
    "len(botprediction)"
   ]
  },
  {
   "cell_type": "code",
   "execution_count": 29,
   "metadata": {},
   "outputs": [],
   "source": [
    "import xml.etree.cElementTree as ET"
   ]
  },
  {
   "cell_type": "code",
   "execution_count": 30,
   "metadata": {},
   "outputs": [],
   "source": [
    "for i in range(len(author_id)):\n",
    "    root = ET.Element(\"root\")\n",
    "    ET.SubElement(root, \"author id\").text = str(author_id[i])\n",
    "    ET.SubElement(root, \"lang\").text = \"en\"\n",
    "    ET.SubElement(root, \"type\").text = botprediction[i]\n",
    "    ET.SubElement(root, \"gender\").text = genderprediction[i]\n",
    "    tree = ET.ElementTree(root)\n",
    "    filename=str(author_id[i])+'.xml'\n",
    "    tree.write(filename)"
   ]
  },
  {
   "cell_type": "code",
   "execution_count": 31,
   "metadata": {},
   "outputs": [
    {
     "ename": "SyntaxError",
     "evalue": "invalid syntax (<ipython-input-31-1a216c410d0d>, line 1)",
     "output_type": "error",
     "traceback": [
      "\u001b[0;36m  File \u001b[0;32m\"<ipython-input-31-1a216c410d0d>\"\u001b[0;36m, line \u001b[0;32m1\u001b[0m\n\u001b[0;31m    <author id=\"author-id\" lang=\"en|es\" type=\"bot|human\" gender=\"bot|male|female\" />\u001b[0m\n\u001b[0m    ^\u001b[0m\n\u001b[0;31mSyntaxError\u001b[0m\u001b[0;31m:\u001b[0m invalid syntax\n"
     ]
    }
   ],
   "source": [
    "<author id=\"author-id\" lang=\"en|es\" type=\"bot|human\" gender=\"bot|male|female\" />"
   ]
  },
  {
   "cell_type": "code",
   "execution_count": null,
   "metadata": {},
   "outputs": [],
   "source": []
  }
 ],
 "metadata": {
  "kernelspec": {
   "display_name": "multimodal",
   "language": "python",
   "name": "multimodal"
  },
  "language_info": {
   "codemirror_mode": {
    "name": "ipython",
    "version": 3
   },
   "file_extension": ".py",
   "mimetype": "text/x-python",
   "name": "python",
   "nbconvert_exporter": "python",
   "pygments_lexer": "ipython3",
   "version": "3.5.2"
  }
 },
 "nbformat": 4,
 "nbformat_minor": 2
}
