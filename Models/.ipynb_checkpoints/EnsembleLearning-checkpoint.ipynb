{
 "cells": [
  {
   "cell_type": "code",
   "execution_count": 1,
   "metadata": {
    "collapsed": true
   },
   "outputs": [],
   "source": [
    "from sklearn.ensemble import VotingClassifier"
   ]
  },
  {
   "cell_type": "code",
   "execution_count": 2,
   "metadata": {
    "collapsed": true
   },
   "outputs": [],
   "source": [
    "import pandas as pd\n",
    "import numpy as np\n",
    "import pickle"
   ]
  },
  {
   "cell_type": "code",
   "execution_count": 3,
   "metadata": {
    "collapsed": true
   },
   "outputs": [],
   "source": [
    "from sklearn.preprocessing import StandardScaler\n",
    "from sklearn.metrics import precision_recall_fscore_support, classification_report"
   ]
  },
  {
   "cell_type": "markdown",
   "metadata": {},
   "source": [
    "## Read data"
   ]
  },
  {
   "cell_type": "code",
   "execution_count": 5,
   "metadata": {
    "collapsed": true
   },
   "outputs": [],
   "source": [
    "# fName = ['id', 'avg_ADJ', 'avg_ADP', 'avg_ADV', 'avg_AUX', 'avg_CCONJ', 'avg_CONJ', 'avg_DET', 'avg_EOL', 'avg_INTJ', 'avg_NOUN', 'avg_NO_TAG', 'avg_NUM', 'avg_PART', 'avg_PRON', 'avg_PROPN', 'avg_PUNCT', 'avg_SCONJ', 'avg_SPACE', 'avg_SYM', 'avg_Tops', 'avg_VERB', 'avg_X', 'avg_act', 'avg_adjectives_for_people', 'avg_animal', 'avg_april_fool', 'avg_art', 'avg_artifact', 'avg_astronomy', 'avg_attribute', 'avg_baseball', 'avg_bathroom', 'avg_beach', 'avg_big', 'avg_biomes', 'avg_birds', 'avg_birthday', 'avg_boat', 'avg_bodies_of_water', 'avg_body', 'avg_buildings', 'avg_camping', 'avg_car', 'avg_carnival', 'avg_carparts', 'avg_castle', 'avg_cats', 'avg_change', 'avg_christmas', 'avg_circus', 'avg_clothes', 'avg_cognition', 'avg_colors', 'avg_communication', 'avg_competition', 'avg_computer', 'avg_constitution', 'avg_consumption', 'avg_contact', 'avg_container', 'avg_cooking', 'avg_cooking_tools', 'avg_country', 'avg_creation', 'avg_dance', 'avg_dentist', 'avg_desserts', 'avg_doctor', 'avg_dogs', 'avg_driving', 'avg_election', 'avg_emotion', 'avg_emotions', 'avg_energy', 'avg_event', 'avg_fall', 'avg_family', 'avg_farm', 'avg_feeling', 'avg_fish', 'avg_flowers', 'avg_food', 'avg_foodweb', 'avg_fruit', 'avg_furniture', 'avg_geography', 'avg_grammar', 'avg_group', 'avg_happiness', 'avg_happy', 'avg_house', 'avg_housing', 'avg_insect', 'avg_jobs', 'avg_kitchen', 'avg_land_forms', 'avg_languages', 'avg_leaders', 'avg_legal', 'avg_location', 'avg_mammal', 'avg_many', 'avg_math', 'avg_maxWordAppearancePerTweet', 'avg_measurement', 'avg_metals', 'avg_military', 'avg_money', 'avg_motion', 'avg_motive', 'avg_music_theory', 'avg_musical_instruments', 'avg_mythical_beasts', 'avg_negative_words', 'avg_new_year', 'avg_noURL', 'avg_nocf', 'avg_noclPerWord', 'avg_noe', 'avg_nos', 'avg_now', 'avg_nowr', 'avg_object', 'avg_ocean', 'avg_office', 'avg_people', 'avg_perception', 'avg_person', 'avg_phenomenon', 'avg_pirate', 'avg_plant', 'avg_plants', 'avg_positive_words', 'avg_possession', 'avg_postal', 'avg_process', 'avg_quantity', 'avg_readabilityScore', 'avg_relation', 'avg_reptiles', 'avg_restaurant', 'avg_roadways', 'avg_rocks', 'avg_rooms', 'avg_school', 'avg_science', 'avg_sciences', 'avg_shape', 'avg_social', 'avg_state', 'avg_stative', 'avg_substance', 'avg_time', 'avg_tree', 'avg_vacation', 'avg_valentine', 'avg_vegetables', 'avg_virtues', 'avg_water', 'avg_weapons', 'avg_weather', 'avg_winter', 'avg_yard', 'maxWordAppearancePerProfile', 'bot', 'gender']"
   ]
  },
  {
   "cell_type": "code",
   "execution_count": 271,
   "metadata": {},
   "outputs": [
    {
     "name": "stdout",
     "output_type": "stream",
     "text": [
      "Number of features: 167\n"
     ]
    }
   ],
   "source": [
    "fName = ['id']\n",
    "fName.extend(pickle.load(open(\"C:/Users/Vanda/Documents/PAN19/data/pan19-author-profiling-training-2019-01-28/en_features/feature_names.p\", \"rb\")))\n",
    "fName.extend(['bot', 'gender'])\n",
    "print(\"Number of features:\", len(fName))"
   ]
  },
  {
   "cell_type": "code",
   "execution_count": 272,
   "metadata": {},
   "outputs": [],
   "source": [
    "csv_dir = \"C:/Users/Vanda/Documents/PAN19/data/pan19-author-profiling-training-2019-01-28/en_features/profile/\"\n",
    "df_train = pd.read_csv(csv_dir+\"train_features.txt\", sep='\\t', header=None, names=fName, encoding='utf-8-sig')\n",
    "df_dev = pd.read_csv(csv_dir+\"dev_features.txt\", sep='\\t', header=None, names=fName, encoding='utf-8-sig')\n",
    "df_test = pd.read_csv(csv_dir+\"test_features.txt\", sep='\\t', header=None, names=fName, encoding='utf-8-sig')\n",
    "# df_train.columns = fName"
   ]
  },
  {
   "cell_type": "code",
   "execution_count": 273,
   "metadata": {},
   "outputs": [
    {
     "name": "stdout",
     "output_type": "stream",
     "text": [
      "(2890, 167) (403, 167) (827, 167)\n"
     ]
    }
   ],
   "source": [
    "print(df_train.shape, df_dev.shape, df_test.shape)"
   ]
  },
  {
   "cell_type": "code",
   "execution_count": 274,
   "metadata": {},
   "outputs": [
    {
     "data": {
      "text/html": [
       "<div>\n",
       "<style>\n",
       "    .dataframe thead tr:only-child th {\n",
       "        text-align: right;\n",
       "    }\n",
       "\n",
       "    .dataframe thead th {\n",
       "        text-align: left;\n",
       "    }\n",
       "\n",
       "    .dataframe tbody tr th {\n",
       "        vertical-align: top;\n",
       "    }\n",
       "</style>\n",
       "<table border=\"1\" class=\"dataframe\">\n",
       "  <thead>\n",
       "    <tr style=\"text-align: right;\">\n",
       "      <th></th>\n",
       "      <th>id</th>\n",
       "      <th>avg_ADJ</th>\n",
       "      <th>avg_ADP</th>\n",
       "      <th>avg_ADV</th>\n",
       "      <th>avg_AUX</th>\n",
       "      <th>avg_CCONJ</th>\n",
       "      <th>avg_CONJ</th>\n",
       "      <th>avg_DET</th>\n",
       "      <th>avg_EOL</th>\n",
       "      <th>avg_INTJ</th>\n",
       "      <th>...</th>\n",
       "      <th>avg_vegetables</th>\n",
       "      <th>avg_virtues</th>\n",
       "      <th>avg_water</th>\n",
       "      <th>avg_weapons</th>\n",
       "      <th>avg_weather</th>\n",
       "      <th>avg_winter</th>\n",
       "      <th>avg_yard</th>\n",
       "      <th>maxWordAppearancePerProfile</th>\n",
       "      <th>bot</th>\n",
       "      <th>gender</th>\n",
       "    </tr>\n",
       "  </thead>\n",
       "  <tbody>\n",
       "    <tr>\n",
       "      <th>0</th>\n",
       "      <td>b2d5748083d6fdffec6c2d68d4d4442d</td>\n",
       "      <td>2.62</td>\n",
       "      <td>3.12</td>\n",
       "      <td>0.57</td>\n",
       "      <td>0.0</td>\n",
       "      <td>1.56</td>\n",
       "      <td>0.0</td>\n",
       "      <td>1.76</td>\n",
       "      <td>0.0</td>\n",
       "      <td>0.05</td>\n",
       "      <td>...</td>\n",
       "      <td>0.00</td>\n",
       "      <td>0.24</td>\n",
       "      <td>0.09</td>\n",
       "      <td>0.01</td>\n",
       "      <td>0.25</td>\n",
       "      <td>0.00</td>\n",
       "      <td>0.08</td>\n",
       "      <td>220</td>\n",
       "      <td>bot</td>\n",
       "      <td>bot</td>\n",
       "    </tr>\n",
       "    <tr>\n",
       "      <th>1</th>\n",
       "      <td>1c9f161414334b286c4dc70163744390</td>\n",
       "      <td>2.55</td>\n",
       "      <td>3.84</td>\n",
       "      <td>0.58</td>\n",
       "      <td>0.0</td>\n",
       "      <td>1.11</td>\n",
       "      <td>0.0</td>\n",
       "      <td>1.62</td>\n",
       "      <td>0.0</td>\n",
       "      <td>0.01</td>\n",
       "      <td>...</td>\n",
       "      <td>0.01</td>\n",
       "      <td>0.21</td>\n",
       "      <td>0.04</td>\n",
       "      <td>0.02</td>\n",
       "      <td>0.20</td>\n",
       "      <td>0.00</td>\n",
       "      <td>0.00</td>\n",
       "      <td>615</td>\n",
       "      <td>bot</td>\n",
       "      <td>bot</td>\n",
       "    </tr>\n",
       "    <tr>\n",
       "      <th>2</th>\n",
       "      <td>1da1f87b3dc778f28268eec70ce94f19</td>\n",
       "      <td>2.24</td>\n",
       "      <td>2.88</td>\n",
       "      <td>0.33</td>\n",
       "      <td>0.0</td>\n",
       "      <td>1.12</td>\n",
       "      <td>0.0</td>\n",
       "      <td>1.41</td>\n",
       "      <td>0.0</td>\n",
       "      <td>0.09</td>\n",
       "      <td>...</td>\n",
       "      <td>0.00</td>\n",
       "      <td>0.22</td>\n",
       "      <td>0.07</td>\n",
       "      <td>0.01</td>\n",
       "      <td>0.16</td>\n",
       "      <td>0.01</td>\n",
       "      <td>0.02</td>\n",
       "      <td>331</td>\n",
       "      <td>bot</td>\n",
       "      <td>bot</td>\n",
       "    </tr>\n",
       "    <tr>\n",
       "      <th>3</th>\n",
       "      <td>af61c4c017f246da69285497baf3dc0b</td>\n",
       "      <td>3.15</td>\n",
       "      <td>3.33</td>\n",
       "      <td>0.60</td>\n",
       "      <td>0.0</td>\n",
       "      <td>1.53</td>\n",
       "      <td>0.0</td>\n",
       "      <td>2.01</td>\n",
       "      <td>0.0</td>\n",
       "      <td>0.10</td>\n",
       "      <td>...</td>\n",
       "      <td>0.00</td>\n",
       "      <td>0.36</td>\n",
       "      <td>0.07</td>\n",
       "      <td>0.00</td>\n",
       "      <td>0.28</td>\n",
       "      <td>0.01</td>\n",
       "      <td>0.00</td>\n",
       "      <td>209</td>\n",
       "      <td>bot</td>\n",
       "      <td>bot</td>\n",
       "    </tr>\n",
       "    <tr>\n",
       "      <th>4</th>\n",
       "      <td>7a36090b20e7bddbe55561c52f959041</td>\n",
       "      <td>2.43</td>\n",
       "      <td>3.07</td>\n",
       "      <td>0.62</td>\n",
       "      <td>0.0</td>\n",
       "      <td>1.22</td>\n",
       "      <td>0.0</td>\n",
       "      <td>2.12</td>\n",
       "      <td>0.0</td>\n",
       "      <td>0.08</td>\n",
       "      <td>...</td>\n",
       "      <td>0.00</td>\n",
       "      <td>0.28</td>\n",
       "      <td>0.03</td>\n",
       "      <td>0.01</td>\n",
       "      <td>0.16</td>\n",
       "      <td>0.00</td>\n",
       "      <td>0.00</td>\n",
       "      <td>191</td>\n",
       "      <td>bot</td>\n",
       "      <td>bot</td>\n",
       "    </tr>\n",
       "  </tbody>\n",
       "</table>\n",
       "<p>5 rows × 167 columns</p>\n",
       "</div>"
      ],
      "text/plain": [
       "                                 id  avg_ADJ  avg_ADP  avg_ADV  avg_AUX  \\\n",
       "0  b2d5748083d6fdffec6c2d68d4d4442d     2.62     3.12     0.57      0.0   \n",
       "1  1c9f161414334b286c4dc70163744390     2.55     3.84     0.58      0.0   \n",
       "2  1da1f87b3dc778f28268eec70ce94f19     2.24     2.88     0.33      0.0   \n",
       "3  af61c4c017f246da69285497baf3dc0b     3.15     3.33     0.60      0.0   \n",
       "4  7a36090b20e7bddbe55561c52f959041     2.43     3.07     0.62      0.0   \n",
       "\n",
       "   avg_CCONJ  avg_CONJ  avg_DET  avg_EOL  avg_INTJ   ...    avg_vegetables  \\\n",
       "0       1.56       0.0     1.76      0.0      0.05   ...              0.00   \n",
       "1       1.11       0.0     1.62      0.0      0.01   ...              0.01   \n",
       "2       1.12       0.0     1.41      0.0      0.09   ...              0.00   \n",
       "3       1.53       0.0     2.01      0.0      0.10   ...              0.00   \n",
       "4       1.22       0.0     2.12      0.0      0.08   ...              0.00   \n",
       "\n",
       "   avg_virtues  avg_water  avg_weapons  avg_weather  avg_winter  avg_yard  \\\n",
       "0         0.24       0.09         0.01         0.25        0.00      0.08   \n",
       "1         0.21       0.04         0.02         0.20        0.00      0.00   \n",
       "2         0.22       0.07         0.01         0.16        0.01      0.02   \n",
       "3         0.36       0.07         0.00         0.28        0.01      0.00   \n",
       "4         0.28       0.03         0.01         0.16        0.00      0.00   \n",
       "\n",
       "   maxWordAppearancePerProfile  bot  gender  \n",
       "0                          220  bot     bot  \n",
       "1                          615  bot     bot  \n",
       "2                          331  bot     bot  \n",
       "3                          209  bot     bot  \n",
       "4                          191  bot     bot  \n",
       "\n",
       "[5 rows x 167 columns]"
      ]
     },
     "execution_count": 274,
     "metadata": {},
     "output_type": "execute_result"
    }
   ],
   "source": [
    "df_train.head()"
   ]
  },
  {
   "cell_type": "code",
   "execution_count": 275,
   "metadata": {
    "collapsed": true
   },
   "outputs": [],
   "source": [
    "def getData(df):\n",
    "    nCols = df_train.shape[1]\n",
    "    nFeatures = nCols-3\n",
    "    X = df.iloc[:, 1:nFeatures+1]\n",
    "    y_bot = df.iloc[:, nFeatures+1]\n",
    "    y_gender = df.iloc[:, nFeatures+2]\n",
    "    i2n = {ind: name for (ind, name) in enumerate(df.iloc[:, 0].tolist())}\n",
    "    n2i = {name: ind for (ind, name) in i2n.items()}\n",
    "    return X, y_bot, y_gender, i2n, n2i"
   ]
  },
  {
   "cell_type": "code",
   "execution_count": 276,
   "metadata": {},
   "outputs": [],
   "source": [
    "X_train, y_train_bot, y_train_gender, train_i2n, train_n2i = getData(df_train)\n",
    "X_dev, y_dev_bot, y_dev_gender, dev_i2n, dev_n2i = getData(df_dev)\n",
    "X_test, y_test_bot, y_test_gender, test_i2n, test_n2i = getData(df_test)"
   ]
  },
  {
   "cell_type": "code",
   "execution_count": 277,
   "metadata": {},
   "outputs": [],
   "source": [
    "def filter_features(features, train, dev, test):\n",
    "    train_f = train[features]\n",
    "    dev_f = dev[features]\n",
    "    test_f = test[features]\n",
    "    return train_f, dev_f, test_f    "
   ]
  },
  {
   "cell_type": "code",
   "execution_count": 278,
   "metadata": {
    "collapsed": true
   },
   "outputs": [],
   "source": [
    "def drop_features(features, df):\n",
    "    df.drop(columns=features)"
   ]
  },
  {
   "cell_type": "markdown",
   "metadata": {},
   "source": [
    "## Standardize data"
   ]
  },
  {
   "cell_type": "code",
   "execution_count": 279,
   "metadata": {
    "collapsed": true
   },
   "outputs": [],
   "source": [
    "def standardize(X_train, X_dev, X_test):\n",
    "    cols = X_train.columns\n",
    "    scaler = StandardScaler(copy=True, with_mean=True, with_std=True)\n",
    "    X_train = scaler.fit_transform(X_train)\n",
    "    X_dev = scaler.transform(X_dev)\n",
    "    X_test = scaler.transform(X_test)\n",
    "    X_train = pd.DataFrame(X_train, columns=cols)\n",
    "    X_dev = pd.DataFrame(X_dev, columns=cols)\n",
    "    X_test = pd.DataFrame(X_test, columns=cols)\n",
    "    return X_train, X_dev, X_test"
   ]
  },
  {
   "cell_type": "code",
   "execution_count": 280,
   "metadata": {},
   "outputs": [],
   "source": [
    "X_train, X_dev, X_test = standardize(X_train, X_dev, X_test)"
   ]
  },
  {
   "cell_type": "code",
   "execution_count": 281,
   "metadata": {},
   "outputs": [
    {
     "data": {
      "text/html": [
       "<div>\n",
       "<style>\n",
       "    .dataframe thead tr:only-child th {\n",
       "        text-align: right;\n",
       "    }\n",
       "\n",
       "    .dataframe thead th {\n",
       "        text-align: left;\n",
       "    }\n",
       "\n",
       "    .dataframe tbody tr th {\n",
       "        vertical-align: top;\n",
       "    }\n",
       "</style>\n",
       "<table border=\"1\" class=\"dataframe\">\n",
       "  <thead>\n",
       "    <tr style=\"text-align: right;\">\n",
       "      <th></th>\n",
       "      <th>avg_ADJ</th>\n",
       "      <th>avg_ADP</th>\n",
       "      <th>avg_ADV</th>\n",
       "      <th>avg_AUX</th>\n",
       "      <th>avg_CCONJ</th>\n",
       "      <th>avg_CONJ</th>\n",
       "      <th>avg_DET</th>\n",
       "      <th>avg_EOL</th>\n",
       "      <th>avg_INTJ</th>\n",
       "      <th>avg_NOUN</th>\n",
       "      <th>...</th>\n",
       "      <th>avg_vacation</th>\n",
       "      <th>avg_valentine</th>\n",
       "      <th>avg_vegetables</th>\n",
       "      <th>avg_virtues</th>\n",
       "      <th>avg_water</th>\n",
       "      <th>avg_weapons</th>\n",
       "      <th>avg_weather</th>\n",
       "      <th>avg_winter</th>\n",
       "      <th>avg_yard</th>\n",
       "      <th>maxWordAppearancePerProfile</th>\n",
       "    </tr>\n",
       "  </thead>\n",
       "  <tbody>\n",
       "    <tr>\n",
       "      <th>0</th>\n",
       "      <td>1.641759</td>\n",
       "      <td>2.195667</td>\n",
       "      <td>-0.610035</td>\n",
       "      <td>0.0</td>\n",
       "      <td>3.769374</td>\n",
       "      <td>0.0</td>\n",
       "      <td>1.273481</td>\n",
       "      <td>0.0</td>\n",
       "      <td>-0.387014</td>\n",
       "      <td>2.073365</td>\n",
       "      <td>...</td>\n",
       "      <td>0.498876</td>\n",
       "      <td>0.319966</td>\n",
       "      <td>-0.328638</td>\n",
       "      <td>1.368301</td>\n",
       "      <td>0.766705</td>\n",
       "      <td>-0.092920</td>\n",
       "      <td>0.434144</td>\n",
       "      <td>-0.528908</td>\n",
       "      <td>3.399733</td>\n",
       "      <td>0.651894</td>\n",
       "    </tr>\n",
       "    <tr>\n",
       "      <th>1</th>\n",
       "      <td>1.547132</td>\n",
       "      <td>3.168811</td>\n",
       "      <td>-0.587738</td>\n",
       "      <td>0.0</td>\n",
       "      <td>2.322632</td>\n",
       "      <td>0.0</td>\n",
       "      <td>1.005876</td>\n",
       "      <td>0.0</td>\n",
       "      <td>-0.702766</td>\n",
       "      <td>2.691900</td>\n",
       "      <td>...</td>\n",
       "      <td>0.212757</td>\n",
       "      <td>-0.135384</td>\n",
       "      <td>0.481740</td>\n",
       "      <td>1.029043</td>\n",
       "      <td>-0.250547</td>\n",
       "      <td>0.140592</td>\n",
       "      <td>-0.011535</td>\n",
       "      <td>-0.528908</td>\n",
       "      <td>-0.615071</td>\n",
       "      <td>4.062353</td>\n",
       "    </tr>\n",
       "    <tr>\n",
       "      <th>2</th>\n",
       "      <td>1.128069</td>\n",
       "      <td>1.871286</td>\n",
       "      <td>-1.145169</td>\n",
       "      <td>0.0</td>\n",
       "      <td>2.354781</td>\n",
       "      <td>0.0</td>\n",
       "      <td>0.604467</td>\n",
       "      <td>0.0</td>\n",
       "      <td>-0.071263</td>\n",
       "      <td>2.138049</td>\n",
       "      <td>...</td>\n",
       "      <td>-0.001832</td>\n",
       "      <td>-0.249221</td>\n",
       "      <td>-0.328638</td>\n",
       "      <td>1.142129</td>\n",
       "      <td>0.359805</td>\n",
       "      <td>-0.092920</td>\n",
       "      <td>-0.368079</td>\n",
       "      <td>-0.304650</td>\n",
       "      <td>0.388630</td>\n",
       "      <td>1.610276</td>\n",
       "    </tr>\n",
       "    <tr>\n",
       "      <th>3</th>\n",
       "      <td>2.358221</td>\n",
       "      <td>2.479501</td>\n",
       "      <td>-0.543143</td>\n",
       "      <td>0.0</td>\n",
       "      <td>3.672925</td>\n",
       "      <td>0.0</td>\n",
       "      <td>1.751348</td>\n",
       "      <td>0.0</td>\n",
       "      <td>0.007675</td>\n",
       "      <td>2.077408</td>\n",
       "      <td>...</td>\n",
       "      <td>0.069698</td>\n",
       "      <td>-0.249221</td>\n",
       "      <td>-0.328638</td>\n",
       "      <td>2.725333</td>\n",
       "      <td>0.359805</td>\n",
       "      <td>-0.326432</td>\n",
       "      <td>0.701552</td>\n",
       "      <td>-0.304650</td>\n",
       "      <td>-0.615071</td>\n",
       "      <td>0.556919</td>\n",
       "    </tr>\n",
       "    <tr>\n",
       "      <th>4</th>\n",
       "      <td>1.384914</td>\n",
       "      <td>2.128088</td>\n",
       "      <td>-0.498549</td>\n",
       "      <td>0.0</td>\n",
       "      <td>2.676280</td>\n",
       "      <td>0.0</td>\n",
       "      <td>1.961610</td>\n",
       "      <td>0.0</td>\n",
       "      <td>-0.150201</td>\n",
       "      <td>1.770162</td>\n",
       "      <td>...</td>\n",
       "      <td>-0.001832</td>\n",
       "      <td>-0.249221</td>\n",
       "      <td>-0.328638</td>\n",
       "      <td>1.820645</td>\n",
       "      <td>-0.453997</td>\n",
       "      <td>-0.092920</td>\n",
       "      <td>-0.368079</td>\n",
       "      <td>-0.528908</td>\n",
       "      <td>-0.615071</td>\n",
       "      <td>0.401505</td>\n",
       "    </tr>\n",
       "  </tbody>\n",
       "</table>\n",
       "<p>5 rows × 164 columns</p>\n",
       "</div>"
      ],
      "text/plain": [
       "    avg_ADJ   avg_ADP   avg_ADV  avg_AUX  avg_CCONJ  avg_CONJ   avg_DET  \\\n",
       "0  1.641759  2.195667 -0.610035      0.0   3.769374       0.0  1.273481   \n",
       "1  1.547132  3.168811 -0.587738      0.0   2.322632       0.0  1.005876   \n",
       "2  1.128069  1.871286 -1.145169      0.0   2.354781       0.0  0.604467   \n",
       "3  2.358221  2.479501 -0.543143      0.0   3.672925       0.0  1.751348   \n",
       "4  1.384914  2.128088 -0.498549      0.0   2.676280       0.0  1.961610   \n",
       "\n",
       "   avg_EOL  avg_INTJ  avg_NOUN             ...               avg_vacation  \\\n",
       "0      0.0 -0.387014  2.073365             ...                   0.498876   \n",
       "1      0.0 -0.702766  2.691900             ...                   0.212757   \n",
       "2      0.0 -0.071263  2.138049             ...                  -0.001832   \n",
       "3      0.0  0.007675  2.077408             ...                   0.069698   \n",
       "4      0.0 -0.150201  1.770162             ...                  -0.001832   \n",
       "\n",
       "   avg_valentine  avg_vegetables  avg_virtues  avg_water  avg_weapons  \\\n",
       "0       0.319966       -0.328638     1.368301   0.766705    -0.092920   \n",
       "1      -0.135384        0.481740     1.029043  -0.250547     0.140592   \n",
       "2      -0.249221       -0.328638     1.142129   0.359805    -0.092920   \n",
       "3      -0.249221       -0.328638     2.725333   0.359805    -0.326432   \n",
       "4      -0.249221       -0.328638     1.820645  -0.453997    -0.092920   \n",
       "\n",
       "   avg_weather  avg_winter  avg_yard  maxWordAppearancePerProfile  \n",
       "0     0.434144   -0.528908  3.399733                     0.651894  \n",
       "1    -0.011535   -0.528908 -0.615071                     4.062353  \n",
       "2    -0.368079   -0.304650  0.388630                     1.610276  \n",
       "3     0.701552   -0.304650 -0.615071                     0.556919  \n",
       "4    -0.368079   -0.528908 -0.615071                     0.401505  \n",
       "\n",
       "[5 rows x 164 columns]"
      ]
     },
     "execution_count": 281,
     "metadata": {},
     "output_type": "execute_result"
    }
   ],
   "source": [
    "X_train.head()"
   ]
  },
  {
   "cell_type": "markdown",
   "metadata": {},
   "source": [
    "## Drop columns containing the same values"
   ]
  },
  {
   "cell_type": "code",
   "execution_count": 282,
   "metadata": {},
   "outputs": [
    {
     "data": {
      "text/plain": [
       "(2890, 159)"
      ]
     },
     "execution_count": 282,
     "metadata": {},
     "output_type": "execute_result"
    }
   ],
   "source": [
    "nunique = X_train.apply(pd.Series.nunique)\n",
    "cols_to_drop = nunique[nunique == 1].index\n",
    "X_train = X_train.drop(cols_to_drop, axis=1)\n",
    "X_dev = X_dev.drop(cols_to_drop, axis=1)\n",
    "X_test = X_test.drop(cols_to_drop, axis=1)\n",
    "X_train.shape"
   ]
  },
  {
   "cell_type": "code",
   "execution_count": 284,
   "metadata": {},
   "outputs": [
    {
     "name": "stdout",
     "output_type": "stream",
     "text": [
      "(2890, 159) (403, 159) (827, 159)\n"
     ]
    }
   ],
   "source": [
    "print(X_train.shape, X_dev.shape, X_test.shape)"
   ]
  },
  {
   "cell_type": "code",
   "execution_count": 297,
   "metadata": {},
   "outputs": [
    {
     "data": {
      "text/html": [
       "<div>\n",
       "<style>\n",
       "    .dataframe thead tr:only-child th {\n",
       "        text-align: right;\n",
       "    }\n",
       "\n",
       "    .dataframe thead th {\n",
       "        text-align: left;\n",
       "    }\n",
       "\n",
       "    .dataframe tbody tr th {\n",
       "        vertical-align: top;\n",
       "    }\n",
       "</style>\n",
       "<table border=\"1\" class=\"dataframe\">\n",
       "  <thead>\n",
       "    <tr style=\"text-align: right;\">\n",
       "      <th></th>\n",
       "      <th>avg_ADJ</th>\n",
       "      <th>avg_ADP</th>\n",
       "      <th>avg_ADV</th>\n",
       "      <th>avg_CCONJ</th>\n",
       "      <th>avg_DET</th>\n",
       "      <th>avg_INTJ</th>\n",
       "      <th>avg_NOUN</th>\n",
       "      <th>avg_NUM</th>\n",
       "      <th>avg_PART</th>\n",
       "      <th>avg_PRON</th>\n",
       "      <th>...</th>\n",
       "      <th>avg_vacation</th>\n",
       "      <th>avg_valentine</th>\n",
       "      <th>avg_vegetables</th>\n",
       "      <th>avg_virtues</th>\n",
       "      <th>avg_water</th>\n",
       "      <th>avg_weapons</th>\n",
       "      <th>avg_weather</th>\n",
       "      <th>avg_winter</th>\n",
       "      <th>avg_yard</th>\n",
       "      <th>maxWordAppearancePerProfile</th>\n",
       "    </tr>\n",
       "  </thead>\n",
       "  <tbody>\n",
       "    <tr>\n",
       "      <th>0</th>\n",
       "      <td>1.641759</td>\n",
       "      <td>2.195667</td>\n",
       "      <td>-0.610035</td>\n",
       "      <td>3.769374</td>\n",
       "      <td>1.273481</td>\n",
       "      <td>-0.387014</td>\n",
       "      <td>2.073365</td>\n",
       "      <td>0.967490</td>\n",
       "      <td>0.873608</td>\n",
       "      <td>-0.604826</td>\n",
       "      <td>...</td>\n",
       "      <td>0.498876</td>\n",
       "      <td>0.319966</td>\n",
       "      <td>-0.328638</td>\n",
       "      <td>1.368301</td>\n",
       "      <td>0.766705</td>\n",
       "      <td>-0.092920</td>\n",
       "      <td>0.434144</td>\n",
       "      <td>-0.528908</td>\n",
       "      <td>3.399733</td>\n",
       "      <td>0.651894</td>\n",
       "    </tr>\n",
       "    <tr>\n",
       "      <th>1</th>\n",
       "      <td>1.547132</td>\n",
       "      <td>3.168811</td>\n",
       "      <td>-0.587738</td>\n",
       "      <td>2.322632</td>\n",
       "      <td>1.005876</td>\n",
       "      <td>-0.702766</td>\n",
       "      <td>2.691900</td>\n",
       "      <td>0.242314</td>\n",
       "      <td>0.151694</td>\n",
       "      <td>-0.435025</td>\n",
       "      <td>...</td>\n",
       "      <td>0.212757</td>\n",
       "      <td>-0.135384</td>\n",
       "      <td>0.481740</td>\n",
       "      <td>1.029043</td>\n",
       "      <td>-0.250547</td>\n",
       "      <td>0.140592</td>\n",
       "      <td>-0.011535</td>\n",
       "      <td>-0.528908</td>\n",
       "      <td>-0.615071</td>\n",
       "      <td>4.062353</td>\n",
       "    </tr>\n",
       "    <tr>\n",
       "      <th>2</th>\n",
       "      <td>1.128069</td>\n",
       "      <td>1.871286</td>\n",
       "      <td>-1.145169</td>\n",
       "      <td>2.354781</td>\n",
       "      <td>0.604467</td>\n",
       "      <td>-0.071263</td>\n",
       "      <td>2.138049</td>\n",
       "      <td>1.482132</td>\n",
       "      <td>0.199821</td>\n",
       "      <td>-0.699160</td>\n",
       "      <td>...</td>\n",
       "      <td>-0.001832</td>\n",
       "      <td>-0.249221</td>\n",
       "      <td>-0.328638</td>\n",
       "      <td>1.142129</td>\n",
       "      <td>0.359805</td>\n",
       "      <td>-0.092920</td>\n",
       "      <td>-0.368079</td>\n",
       "      <td>-0.304650</td>\n",
       "      <td>0.388630</td>\n",
       "      <td>1.610276</td>\n",
       "    </tr>\n",
       "    <tr>\n",
       "      <th>3</th>\n",
       "      <td>2.358221</td>\n",
       "      <td>2.479501</td>\n",
       "      <td>-0.543143</td>\n",
       "      <td>3.672925</td>\n",
       "      <td>1.751348</td>\n",
       "      <td>0.007675</td>\n",
       "      <td>2.077408</td>\n",
       "      <td>0.406063</td>\n",
       "      <td>1.162374</td>\n",
       "      <td>-0.076557</td>\n",
       "      <td>...</td>\n",
       "      <td>0.069698</td>\n",
       "      <td>-0.249221</td>\n",
       "      <td>-0.328638</td>\n",
       "      <td>2.725333</td>\n",
       "      <td>0.359805</td>\n",
       "      <td>-0.326432</td>\n",
       "      <td>0.701552</td>\n",
       "      <td>-0.304650</td>\n",
       "      <td>-0.615071</td>\n",
       "      <td>0.556919</td>\n",
       "    </tr>\n",
       "    <tr>\n",
       "      <th>4</th>\n",
       "      <td>1.384914</td>\n",
       "      <td>2.128088</td>\n",
       "      <td>-0.498549</td>\n",
       "      <td>2.676280</td>\n",
       "      <td>1.961610</td>\n",
       "      <td>-0.150201</td>\n",
       "      <td>1.770162</td>\n",
       "      <td>0.616598</td>\n",
       "      <td>1.017991</td>\n",
       "      <td>-0.076557</td>\n",
       "      <td>...</td>\n",
       "      <td>-0.001832</td>\n",
       "      <td>-0.249221</td>\n",
       "      <td>-0.328638</td>\n",
       "      <td>1.820645</td>\n",
       "      <td>-0.453997</td>\n",
       "      <td>-0.092920</td>\n",
       "      <td>-0.368079</td>\n",
       "      <td>-0.528908</td>\n",
       "      <td>-0.615071</td>\n",
       "      <td>0.401505</td>\n",
       "    </tr>\n",
       "  </tbody>\n",
       "</table>\n",
       "<p>5 rows × 159 columns</p>\n",
       "</div>"
      ],
      "text/plain": [
       "    avg_ADJ   avg_ADP   avg_ADV  avg_CCONJ   avg_DET  avg_INTJ  avg_NOUN  \\\n",
       "0  1.641759  2.195667 -0.610035   3.769374  1.273481 -0.387014  2.073365   \n",
       "1  1.547132  3.168811 -0.587738   2.322632  1.005876 -0.702766  2.691900   \n",
       "2  1.128069  1.871286 -1.145169   2.354781  0.604467 -0.071263  2.138049   \n",
       "3  2.358221  2.479501 -0.543143   3.672925  1.751348  0.007675  2.077408   \n",
       "4  1.384914  2.128088 -0.498549   2.676280  1.961610 -0.150201  1.770162   \n",
       "\n",
       "    avg_NUM  avg_PART  avg_PRON             ...               avg_vacation  \\\n",
       "0  0.967490  0.873608 -0.604826             ...                   0.498876   \n",
       "1  0.242314  0.151694 -0.435025             ...                   0.212757   \n",
       "2  1.482132  0.199821 -0.699160             ...                  -0.001832   \n",
       "3  0.406063  1.162374 -0.076557             ...                   0.069698   \n",
       "4  0.616598  1.017991 -0.076557             ...                  -0.001832   \n",
       "\n",
       "   avg_valentine  avg_vegetables  avg_virtues  avg_water  avg_weapons  \\\n",
       "0       0.319966       -0.328638     1.368301   0.766705    -0.092920   \n",
       "1      -0.135384        0.481740     1.029043  -0.250547     0.140592   \n",
       "2      -0.249221       -0.328638     1.142129   0.359805    -0.092920   \n",
       "3      -0.249221       -0.328638     2.725333   0.359805    -0.326432   \n",
       "4      -0.249221       -0.328638     1.820645  -0.453997    -0.092920   \n",
       "\n",
       "   avg_weather  avg_winter  avg_yard  maxWordAppearancePerProfile  \n",
       "0     0.434144   -0.528908  3.399733                     0.651894  \n",
       "1    -0.011535   -0.528908 -0.615071                     4.062353  \n",
       "2    -0.368079   -0.304650  0.388630                     1.610276  \n",
       "3     0.701552   -0.304650 -0.615071                     0.556919  \n",
       "4    -0.368079   -0.528908 -0.615071                     0.401505  \n",
       "\n",
       "[5 rows x 159 columns]"
      ]
     },
     "execution_count": 297,
     "metadata": {},
     "output_type": "execute_result"
    }
   ],
   "source": [
    "X_train.head()"
   ]
  },
  {
   "cell_type": "markdown",
   "metadata": {},
   "source": [
    "## Random Forest Classifier"
   ]
  },
  {
   "cell_type": "code",
   "execution_count": 285,
   "metadata": {
    "collapsed": true
   },
   "outputs": [],
   "source": [
    "from sklearn.ensemble import RandomForestClassifier"
   ]
  },
  {
   "cell_type": "code",
   "execution_count": 296,
   "metadata": {},
   "outputs": [
    {
     "name": "stdout",
     "output_type": "stream",
     "text": [
      "Bot classification\n",
      "             precision    recall  f1-score   support\n",
      "\n",
      "        bot       0.98      0.96      0.97       427\n",
      "      human       0.96      0.98      0.97       400\n",
      "\n",
      "avg / total       0.97      0.97      0.97       827\n",
      "\n",
      "Gender classification\n",
      "             precision    recall  f1-score   support\n",
      "\n",
      "        bot       0.97      0.97      0.97       427\n",
      "     female       0.82      0.77      0.79       212\n",
      "       male       0.78      0.82      0.80       188\n",
      "\n",
      "avg / total       0.89      0.89      0.89       827\n",
      "\n"
     ]
    }
   ],
   "source": [
    "# bot\n",
    "clf = RandomForestClassifier(n_estimators=100, max_depth=10,random_state=0)\n",
    "clf.fit(X_train, y_train_bot)\n",
    "y_pred_test = clf.predict(X_test)\n",
    "precision_recall_fscore_support(y_test_bot, y_pred_test)\n",
    "print(\"Bot classification\")\n",
    "print(classification_report(y_test_bot, y_pred_test))\n",
    "# Gender\n",
    "clf = RandomForestClassifier(n_estimators=100, max_depth=10,random_state=0, class_weight='balanced')\n",
    "clf.fit(X_train, y_train_gender)\n",
    "y_pred_test = clf.predict(X_test)\n",
    "print(\"Gender classification\")\n",
    "print(classification_report(y_test_gender, y_pred_test))"
   ]
  },
  {
   "cell_type": "markdown",
   "metadata": {},
   "source": [
    "## Ada Boost Classifier"
   ]
  },
  {
   "cell_type": "code",
   "execution_count": 298,
   "metadata": {
    "collapsed": true
   },
   "outputs": [],
   "source": [
    "from sklearn.tree import DecisionTreeClassifier\n",
    "from sklearn.ensemble import AdaBoostClassifier"
   ]
  },
  {
   "cell_type": "code",
   "execution_count": 302,
   "metadata": {},
   "outputs": [
    {
     "name": "stdout",
     "output_type": "stream",
     "text": [
      "Bot Classification\n",
      "             precision    recall  f1-score   support\n",
      "\n",
      "        bot       1.00      0.99      0.99       427\n",
      "      human       0.99      0.99      0.99       400\n",
      "\n",
      "avg / total       0.99      0.99      0.99       827\n",
      "\n",
      "Gender Classification\n",
      "             precision    recall  f1-score   support\n",
      "\n",
      "        bot       0.99      0.97      0.98       427\n",
      "     female       0.89      0.85      0.87       212\n",
      "       male       0.84      0.92      0.88       188\n",
      "\n",
      "avg / total       0.93      0.93      0.93       827\n",
      "\n"
     ]
    }
   ],
   "source": [
    "ada = AdaBoostClassifier(DecisionTreeClassifier(max_depth=6), \n",
    "                         algorithm=\"SAMME\",\n",
    "                         n_estimators=500,\n",
    "                         random_state=0)\n",
    "# bot\n",
    "ada.fit(X_train, y_train_bot)\n",
    "y_pred_test = ada.predict(X_test)\n",
    "print(\"Bot Classification\")\n",
    "print(classification_report(y_test_bot, y_pred_test))\n",
    "# gender\n",
    "ada.fit(X_train, y_train_gender)\n",
    "y_pred_test = ada.predict(X_test)\n",
    "print(\"Gender Classification\")\n",
    "print(classification_report(y_test_gender, y_pred_test))"
   ]
  },
  {
   "cell_type": "markdown",
   "metadata": {},
   "source": [
    "## Bagging Classifier"
   ]
  },
  {
   "cell_type": "code",
   "execution_count": 303,
   "metadata": {
    "collapsed": true
   },
   "outputs": [],
   "source": [
    "from sklearn.ensemble import BaggingClassifier\n",
    "from sklearn.neighbors import KNeighborsClassifier"
   ]
  },
  {
   "cell_type": "code",
   "execution_count": 304,
   "metadata": {
    "collapsed": true
   },
   "outputs": [],
   "source": [
    "bagging = BaggingClassifier(KNeighborsClassifier(n_neighbors=3), \n",
    "                            max_samples=0.7, \n",
    "                            max_features=0.7, \n",
    "                            random_state=0)\n",
    "bagging.fit(X_train, y_train_bot)\n",
    "y_pred_test = bagging.predict(X_test)\n",
    "y_pred_train = bagging.predict(X_train)"
   ]
  },
  {
   "cell_type": "code",
   "execution_count": 305,
   "metadata": {},
   "outputs": [
    {
     "name": "stdout",
     "output_type": "stream",
     "text": [
      "Bot classification\n",
      "             precision    recall  f1-score   support\n",
      "\n",
      "        bot       1.00      0.96      0.98       427\n",
      "      human       0.96      1.00      0.98       400\n",
      "\n",
      "avg / total       0.98      0.98      0.98       827\n",
      "\n"
     ]
    }
   ],
   "source": [
    "print(\"Bot classification\")\n",
    "print(classification_report(y_test_bot, y_pred_test))"
   ]
  },
  {
   "cell_type": "code",
   "execution_count": 306,
   "metadata": {
    "collapsed": true
   },
   "outputs": [],
   "source": [
    "bagging = BaggingClassifier(KNeighborsClassifier(n_neighbors=3), \n",
    "                            max_samples=0.5, \n",
    "                            max_features=0.5, \n",
    "                            random_state=0)\n",
    "bagging.fit(X_train, y_train_gender)\n",
    "y_pred_test = bagging.predict(X_test)"
   ]
  },
  {
   "cell_type": "code",
   "execution_count": 307,
   "metadata": {},
   "outputs": [
    {
     "name": "stdout",
     "output_type": "stream",
     "text": [
      "Gender classification\n",
      "             precision    recall  f1-score   support\n",
      "\n",
      "        bot       1.00      0.96      0.98       427\n",
      "     female       0.87      0.84      0.86       212\n",
      "       male       0.80      0.90      0.84       188\n",
      "\n",
      "avg / total       0.92      0.92      0.92       827\n",
      "\n"
     ]
    }
   ],
   "source": [
    "print(\"Gender classification\")\n",
    "print(classification_report(y_test_gender, y_pred_test))"
   ]
  },
  {
   "cell_type": "markdown",
   "metadata": {},
   "source": [
    "## Gradient Tree Boosting Classifier"
   ]
  },
  {
   "cell_type": "code",
   "execution_count": 308,
   "metadata": {
    "collapsed": true
   },
   "outputs": [],
   "source": [
    "from sklearn.ensemble import GradientBoostingClassifier"
   ]
  },
  {
   "cell_type": "code",
   "execution_count": 309,
   "metadata": {
    "collapsed": true
   },
   "outputs": [],
   "source": [
    "gbc = GradientBoostingClassifier(n_estimators=100, learning_rate=1.0,\n",
    "                                 max_depth=5, random_state=0)\n",
    "gbc.fit(X_train, y_train_bot)\n",
    "y_pred_test = gbc.predict(X_test)"
   ]
  },
  {
   "cell_type": "code",
   "execution_count": 310,
   "metadata": {},
   "outputs": [
    {
     "name": "stdout",
     "output_type": "stream",
     "text": [
      "             precision    recall  f1-score   support\n",
      "\n",
      "        bot       0.98      0.98      0.98       427\n",
      "      human       0.98      0.98      0.98       400\n",
      "\n",
      "avg / total       0.98      0.98      0.98       827\n",
      "\n"
     ]
    }
   ],
   "source": [
    "print(classification_report(y_test_bot, y_pred_test))"
   ]
  },
  {
   "cell_type": "code",
   "execution_count": 311,
   "metadata": {},
   "outputs": [
    {
     "name": "stdout",
     "output_type": "stream",
     "text": [
      "             precision    recall  f1-score   support\n",
      "\n",
      "        bot       0.97      0.97      0.97       427\n",
      "     female       0.87      0.82      0.84       212\n",
      "       male       0.81      0.87      0.84       188\n",
      "\n",
      "avg / total       0.91      0.91      0.91       827\n",
      "\n"
     ]
    }
   ],
   "source": [
    "gbc = GradientBoostingClassifier(n_estimators=100, learning_rate=1.0,\n",
    "                                 max_depth=5, random_state=0)\n",
    "gbc.fit(X_train, y_train_gender)\n",
    "y_pred_test = gbc.predict(X_test)\n",
    "print(classification_report(y_test_gender, y_pred_test))"
   ]
  },
  {
   "cell_type": "markdown",
   "metadata": {
    "collapsed": true
   },
   "source": [
    "## Results with sepecifically selected features"
   ]
  },
  {
   "cell_type": "markdown",
   "metadata": {},
   "source": [
    "### Select features"
   ]
  },
  {
   "cell_type": "code",
   "execution_count": 214,
   "metadata": {
    "collapsed": true
   },
   "outputs": [],
   "source": [
    "# POS features\n",
    "all_pos_tags = [\"NO_TAG\", \"ADJ\", \"ADP\", \"ADV\",\"AUX\", \"CONJ\",\"CCONJ\",\"DET\",\n",
    "                      \"INTJ\",\"NOUN\",\"NUM\",\"PART\",\"PRON\",\"PROPN\",\"PUNCT\",\"SCONJ\",\"SYM\",\n",
    "                      \"VERB\",\"X\",\"EOL\",\"SPACE\"]\n",
    "pos_features = [\"avg_\"+postag for postag in all_pos_tags]\n",
    "# topic features\n",
    "topic_names = ['Tops', 'act', 'adjectives_for_people', 'animal', 'april_fool', 'art', 'artifact', 'astronomy', 'attribute', 'baseball', 'bathroom', 'beach', 'big', 'biomes', 'birds', 'birthday', 'boat', 'bodies_of_water', 'body', 'buildings', 'camping', 'car', 'carnival', 'carparts', 'castle', 'cats', 'change', 'christmas', 'circus', 'clothes', 'cognition', 'colors', 'communication', 'competition', 'computer', 'constitution', 'consumption', 'contact', 'container', 'cooking', 'cooking_tools', 'country', 'creation', 'dance', 'dentist', 'desserts', 'doctor', 'dogs', 'driving', 'election', 'emotion', 'emotions', 'energy', 'event', 'fall', 'family', 'farm', 'feeling', 'fish', 'flowers', 'food', 'foodweb', 'fruit', 'furniture', 'geography', 'grammar', 'group', 'happiness', 'happy', 'house', 'housing', 'insect', 'jobs', 'kitchen', 'land_forms', 'languages', 'leaders', 'legal', 'location', 'mammal', 'many', 'math', 'measurement', 'metals', 'military', 'money', 'motion', 'motive', 'music_theory', 'musical_instruments', 'mythical_beasts', 'negative_words', 'new_year', 'object', 'ocean', 'office', 'people', 'perception', 'person', 'phenomenon', 'pirate', 'plant', 'plants', 'positive_words', 'possession', 'postal', 'process', 'quantity', 'relation', 'reptiles', 'restaurant', 'roadways', 'rocks', 'rooms', 'school', 'science', 'sciences', 'shape', 'social', 'state', 'stative', 'substance', 'time', 'tree', 'vacation', 'valentine', 'vegetables', 'virtues', 'water', 'weapons', 'weather', 'winter', 'yard']\n",
    "topic_features = [\"avg_\"+topic for topic in topic_names]\n",
    "# stylistic features\n",
    "stylstic_names = ['nos', 'now', 'noclPerWord', 'noe', 'nocf', 'nowr', 'maxWordAppearancePerTweet']\n",
    "stylstic_features = [\"avg_\"+n for n in stylstic_names]\n",
    "stylstic_features.append('maxWordAppearancePerProfile')\n",
    "# URL features\n",
    "url_names = ['noURL']\n",
    "url_features = [\"avg_\"+n for n in url_names]\n",
    "# readability features\n",
    "readability_names = ['readabilityScore']\n",
    "readability_features = [\"avg_\"+n for n in readability_names]\n",
    "# POS + topic\n",
    "pos_topic_features = []\n",
    "pos_topic_features.extend(pos_features)\n",
    "pos_topic_features.extend(topic_features)"
   ]
  },
  {
   "cell_type": "code",
   "execution_count": 183,
   "metadata": {
    "collapsed": true
   },
   "outputs": [],
   "source": [
    "from sklearn.tree import DecisionTreeClassifier\n",
    "from sklearn.ensemble import AdaBoostClassifier"
   ]
  },
  {
   "cell_type": "code",
   "execution_count": 211,
   "metadata": {
    "collapsed": true
   },
   "outputs": [],
   "source": [
    "# use AdaBoostClassifier\n",
    "def feature_pred_ADA(features):\n",
    "    train_f, dev_f, test_f = filter_features(features, X_train, X_dev, X_test)\n",
    "    ada = AdaBoostClassifier(DecisionTreeClassifier(max_depth=5), \n",
    "                         algorithm=\"SAMME\",\n",
    "                         n_estimators=500,\n",
    "                         random_state=0)\n",
    "    ada.fit(train_f, y_train_gender)\n",
    "    y_pred_test = ada.predict(test_f)\n",
    "    print(\"Gender classification\")\n",
    "    print(classification_report(y_test_gender, y_pred_test))\n",
    "    ada.fit(train_f, y_train_bot)\n",
    "    y_pred_test = ada.predict(test_f)\n",
    "    print(\"Bot classification\")\n",
    "    print(classification_report(y_test_bot, y_pred_test))"
   ]
  },
  {
   "cell_type": "markdown",
   "metadata": {},
   "source": [
    "### Stylistic features"
   ]
  },
  {
   "cell_type": "code",
   "execution_count": 206,
   "metadata": {},
   "outputs": [
    {
     "name": "stdout",
     "output_type": "stream",
     "text": [
      "Gender classification\n",
      "             precision    recall  f1-score   support\n",
      "\n",
      "        bot       0.95      0.94      0.94       427\n",
      "     female       0.67      0.67      0.67       212\n",
      "       male       0.62      0.63      0.62       188\n",
      "\n",
      "avg / total       0.80      0.80      0.80       827\n",
      "\n",
      "Bot classification\n",
      "             precision    recall  f1-score   support\n",
      "\n",
      "        bot       0.95      0.94      0.95       427\n",
      "      human       0.94      0.95      0.94       400\n",
      "\n",
      "avg / total       0.95      0.95      0.95       827\n",
      "\n"
     ]
    }
   ],
   "source": [
    "feature_pred_ADA(stylstic_features)"
   ]
  },
  {
   "cell_type": "markdown",
   "metadata": {},
   "source": [
    "### POS tags"
   ]
  },
  {
   "cell_type": "code",
   "execution_count": 207,
   "metadata": {},
   "outputs": [
    {
     "name": "stdout",
     "output_type": "stream",
     "text": [
      "Gender classification\n",
      "             precision    recall  f1-score   support\n",
      "\n",
      "        bot       0.99      0.97      0.98       427\n",
      "     female       0.80      0.71      0.75       212\n",
      "       male       0.69      0.81      0.75       188\n",
      "\n",
      "avg / total       0.87      0.87      0.87       827\n",
      "\n",
      "Bot classification\n",
      "             precision    recall  f1-score   support\n",
      "\n",
      "        bot       0.99      0.99      0.99       427\n",
      "      human       0.99      0.99      0.99       400\n",
      "\n",
      "avg / total       0.99      0.99      0.99       827\n",
      "\n"
     ]
    }
   ],
   "source": [
    "feature_pred_ADA(pos_features)"
   ]
  },
  {
   "cell_type": "markdown",
   "metadata": {},
   "source": [
    "### Topics"
   ]
  },
  {
   "cell_type": "code",
   "execution_count": 212,
   "metadata": {},
   "outputs": [
    {
     "name": "stdout",
     "output_type": "stream",
     "text": [
      "Gender classification\n",
      "             precision    recall  f1-score   support\n",
      "\n",
      "        bot       0.97      0.92      0.95       427\n",
      "     female       0.78      0.79      0.78       212\n",
      "       male       0.74      0.82      0.78       188\n",
      "\n",
      "avg / total       0.87      0.86      0.87       827\n",
      "\n",
      "Bot classification\n",
      "             precision    recall  f1-score   support\n",
      "\n",
      "        bot       0.98      0.93      0.96       427\n",
      "      human       0.93      0.98      0.96       400\n",
      "\n",
      "avg / total       0.96      0.96      0.96       827\n",
      "\n"
     ]
    }
   ],
   "source": [
    "feature_pred_ADA(topic_features)"
   ]
  },
  {
   "cell_type": "markdown",
   "metadata": {},
   "source": [
    "### POS + topic"
   ]
  },
  {
   "cell_type": "code",
   "execution_count": 215,
   "metadata": {},
   "outputs": [
    {
     "name": "stdout",
     "output_type": "stream",
     "text": [
      "Gender classification\n",
      "             precision    recall  f1-score   support\n",
      "\n",
      "        bot       0.99      0.97      0.98       427\n",
      "     female       0.83      0.82      0.83       212\n",
      "       male       0.80      0.85      0.82       188\n",
      "\n",
      "avg / total       0.91      0.90      0.91       827\n",
      "\n",
      "Bot classification\n",
      "             precision    recall  f1-score   support\n",
      "\n",
      "        bot       0.99      0.97      0.98       427\n",
      "      human       0.97      0.99      0.98       400\n",
      "\n",
      "avg / total       0.98      0.98      0.98       827\n",
      "\n"
     ]
    }
   ],
   "source": [
    "feature_pred_ADA(pos_topic_features)"
   ]
  },
  {
   "cell_type": "markdown",
   "metadata": {},
   "source": [
    "### Readability"
   ]
  },
  {
   "cell_type": "code",
   "execution_count": 208,
   "metadata": {},
   "outputs": [
    {
     "name": "stdout",
     "output_type": "stream",
     "text": [
      "Gender classification\n",
      "             precision    recall  f1-score   support\n",
      "\n",
      "        bot       0.64      0.73      0.68       427\n",
      "     female       0.40      0.36      0.38       212\n",
      "       male       0.35      0.27      0.31       188\n",
      "\n",
      "avg / total       0.51      0.53      0.52       827\n",
      "\n",
      "Bot classification\n",
      "             precision    recall  f1-score   support\n",
      "\n",
      "        bot       0.70      0.60      0.65       427\n",
      "      human       0.63      0.73      0.68       400\n",
      "\n",
      "avg / total       0.67      0.66      0.66       827\n",
      "\n"
     ]
    }
   ],
   "source": [
    "feature_pred_ADA(readability_features)"
   ]
  },
  {
   "cell_type": "markdown",
   "metadata": {},
   "source": [
    "### HTML"
   ]
  },
  {
   "cell_type": "code",
   "execution_count": 209,
   "metadata": {},
   "outputs": [
    {
     "name": "stdout",
     "output_type": "stream",
     "text": [
      "Gender classification\n",
      "             precision    recall  f1-score   support\n",
      "\n",
      "        bot       0.75      0.84      0.80       427\n",
      "     female       0.43      0.33      0.38       212\n",
      "       male       0.41      0.40      0.41       188\n",
      "\n",
      "avg / total       0.59      0.61      0.60       827\n",
      "\n",
      "Bot classification\n",
      "             precision    recall  f1-score   support\n",
      "\n",
      "        bot       0.81      0.80      0.80       427\n",
      "      human       0.79      0.81      0.80       400\n",
      "\n",
      "avg / total       0.80      0.80      0.80       827\n",
      "\n"
     ]
    }
   ],
   "source": [
    "feature_pred_ADA(url_features)"
   ]
  },
  {
   "cell_type": "code",
   "execution_count": null,
   "metadata": {
    "collapsed": true
   },
   "outputs": [],
   "source": []
  }
 ],
 "metadata": {
  "kernelspec": {
   "display_name": "Python 3",
   "language": "python",
   "name": "python3"
  },
  "language_info": {
   "codemirror_mode": {
    "name": "ipython",
    "version": 3
   },
   "file_extension": ".py",
   "mimetype": "text/x-python",
   "name": "python",
   "nbconvert_exporter": "python",
   "pygments_lexer": "ipython3",
   "version": "3.6.8"
  }
 },
 "nbformat": 4,
 "nbformat_minor": 2
}
