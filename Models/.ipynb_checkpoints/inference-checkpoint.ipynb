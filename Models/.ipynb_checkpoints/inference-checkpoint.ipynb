{
 "cells": [
  {
   "cell_type": "code",
   "execution_count": 1,
   "metadata": {},
   "outputs": [],
   "source": [
    "import pandas as pd\n",
    "import numpy as np\n",
    "import pickle\n",
    "import os\n",
    "import copy"
   ]
  },
  {
   "cell_type": "code",
   "execution_count": 2,
   "metadata": {},
   "outputs": [],
   "source": [
    "from sklearn.model_selection import train_test_split\n",
    "from sklearn.preprocessing import StandardScaler\n",
    "from sklearn.metrics import precision_recall_fscore_support, classification_report"
   ]
  },
  {
   "cell_type": "markdown",
   "metadata": {},
   "source": [
    "## Read data"
   ]
  },
  {
   "cell_type": "code",
   "execution_count": 3,
   "metadata": {},
   "outputs": [],
   "source": [
    "fName = ['id', 'avg_ADJ', 'avg_ADP', 'avg_ADV', 'avg_AUX', 'avg_CCONJ', 'avg_CONJ', 'avg_DET', 'avg_EOL', 'avg_INTJ', 'avg_NOUN', 'avg_NO_TAG', 'avg_NUM', 'avg_PART', 'avg_PRON', 'avg_PROPN', 'avg_PUNCT', 'avg_SCONJ', 'avg_SPACE', 'avg_SYM', 'avg_Tops', 'avg_VERB', 'avg_X', 'avg_act', 'avg_adjectives_for_people', 'avg_animal', 'avg_april_fool', 'avg_art', 'avg_artifact', 'avg_astronomy', 'avg_attribute', 'avg_baseball', 'avg_bathroom', 'avg_beach', 'avg_big', 'avg_biomes', 'avg_birds', 'avg_birthday', 'avg_boat', 'avg_bodies_of_water', 'avg_body', 'avg_buildings', 'avg_camping', 'avg_car', 'avg_carnival', 'avg_carparts', 'avg_castle', 'avg_cats', 'avg_change', 'avg_christmas', 'avg_circus', 'avg_clothes', 'avg_cognition', 'avg_colors', 'avg_communication', 'avg_competition', 'avg_computer', 'avg_constitution', 'avg_consumption', 'avg_contact', 'avg_container', 'avg_cooking', 'avg_cooking_tools', 'avg_country', 'avg_creation', 'avg_dance', 'avg_dentist', 'avg_desserts', 'avg_doctor', 'avg_dogs', 'avg_driving', 'avg_election', 'avg_emotion', 'avg_emotions', 'avg_energy', 'avg_event', 'avg_fall', 'avg_family', 'avg_farm', 'avg_feeling', 'avg_fish', 'avg_flowers', 'avg_food', 'avg_foodweb', 'avg_fruit', 'avg_furniture', 'avg_geography', 'avg_grammar', 'avg_group', 'avg_happiness', 'avg_happy', 'avg_house', 'avg_housing', 'avg_insect', 'avg_jobs', 'avg_kitchen', 'avg_land_forms', 'avg_languages', 'avg_leaders', 'avg_legal', 'avg_location', 'avg_mammal', 'avg_many', 'avg_math', 'avg_maxWordAppearancePerTweet', 'avg_measurement', 'avg_metals', 'avg_military', 'avg_money', 'avg_motion', 'avg_motive', 'avg_music_theory', 'avg_musical_instruments', 'avg_mythical_beasts', 'avg_negative_words', 'avg_new_year', 'avg_noURL', 'avg_nocf', 'avg_noclPerWord', 'avg_noe', 'avg_nos', 'avg_now', 'avg_nowr', 'avg_object', 'avg_ocean', 'avg_office', 'avg_people', 'avg_perception', 'avg_person', 'avg_phenomenon', 'avg_pirate', 'avg_plant', 'avg_plants', 'avg_positive_words', 'avg_possession', 'avg_postal', 'avg_process', 'avg_quantity', 'avg_readabilityScore', 'avg_relation', 'avg_reptiles', 'avg_restaurant', 'avg_roadways', 'avg_rocks', 'avg_rooms', 'avg_school', 'avg_science', 'avg_sciences', 'avg_shape', 'avg_social', 'avg_state', 'avg_stative', 'avg_substance', 'avg_time', 'avg_tree', 'avg_vacation', 'avg_valentine', 'avg_vegetables', 'avg_virtues', 'avg_water', 'avg_weapons', 'avg_weather', 'avg_winter', 'avg_yard', 'maxWordAppearancePerProfile', 'bot', 'gender']\n",
    "# len(fName)"
   ]
  },
  {
   "cell_type": "code",
   "execution_count": 5,
   "metadata": {
    "scrolled": true
   },
   "outputs": [],
   "source": [
    "csv_dir = \"../pan19-author-profiling-training-2019-01-28/\"\n",
    "df = pd.read_csv(csv_dir+\"features.txt\", sep='\\t', header=None, names=fName, encoding='utf-8-sig')"
   ]
  },
  {
   "cell_type": "code",
   "execution_count": 7,
   "metadata": {},
   "outputs": [],
   "source": [
    "import _pickle as cPickle"
   ]
  },
  {
   "cell_type": "code",
   "execution_count": 10,
   "metadata": {},
   "outputs": [],
   "source": [
    "with open('ada1.pkl', 'rb') as fid:\n",
    "    gnb_loaded = cPickle.load(fid)"
   ]
  },
  {
   "cell_type": "code",
   "execution_count": 11,
   "metadata": {},
   "outputs": [],
   "source": [
    "with open('ada2.pkl', 'rb') as fid:\n",
    "    gnb_loaded2 = cPickle.load(fid)"
   ]
  },
  {
   "cell_type": "code",
   "execution_count": 14,
   "metadata": {},
   "outputs": [
    {
     "data": {
      "text/html": [
       "<div>\n",
       "<style scoped>\n",
       "    .dataframe tbody tr th:only-of-type {\n",
       "        vertical-align: middle;\n",
       "    }\n",
       "\n",
       "    .dataframe tbody tr th {\n",
       "        vertical-align: top;\n",
       "    }\n",
       "\n",
       "    .dataframe thead th {\n",
       "        text-align: right;\n",
       "    }\n",
       "</style>\n",
       "<table border=\"1\" class=\"dataframe\">\n",
       "  <thead>\n",
       "    <tr style=\"text-align: right;\">\n",
       "      <th></th>\n",
       "      <th>id</th>\n",
       "      <th>avg_ADJ</th>\n",
       "      <th>avg_ADP</th>\n",
       "      <th>avg_ADV</th>\n",
       "      <th>avg_AUX</th>\n",
       "      <th>avg_CCONJ</th>\n",
       "      <th>avg_CONJ</th>\n",
       "      <th>avg_DET</th>\n",
       "      <th>avg_EOL</th>\n",
       "      <th>avg_INTJ</th>\n",
       "      <th>...</th>\n",
       "      <th>avg_vegetables</th>\n",
       "      <th>avg_virtues</th>\n",
       "      <th>avg_water</th>\n",
       "      <th>avg_weapons</th>\n",
       "      <th>avg_weather</th>\n",
       "      <th>avg_winter</th>\n",
       "      <th>avg_yard</th>\n",
       "      <th>maxWordAppearancePerProfile</th>\n",
       "      <th>bot</th>\n",
       "      <th>gender</th>\n",
       "    </tr>\n",
       "  </thead>\n",
       "  <tbody>\n",
       "    <tr>\n",
       "      <th>0</th>\n",
       "      <td>b2d5748083d6fdffec6c2d68d4d4442d</td>\n",
       "      <td>2.49</td>\n",
       "      <td>3.12</td>\n",
       "      <td>0.61</td>\n",
       "      <td>0.0</td>\n",
       "      <td>1.54</td>\n",
       "      <td>0.0</td>\n",
       "      <td>1.76</td>\n",
       "      <td>0.0</td>\n",
       "      <td>0.02</td>\n",
       "      <td>...</td>\n",
       "      <td>0.00</td>\n",
       "      <td>0.24</td>\n",
       "      <td>0.09</td>\n",
       "      <td>0.01</td>\n",
       "      <td>0.25</td>\n",
       "      <td>0.00</td>\n",
       "      <td>0.08</td>\n",
       "      <td>220</td>\n",
       "      <td>bot</td>\n",
       "      <td>bot</td>\n",
       "    </tr>\n",
       "    <tr>\n",
       "      <th>1</th>\n",
       "      <td>2bed15d46872169dc7deaf8d2b43a56</td>\n",
       "      <td>2.74</td>\n",
       "      <td>3.14</td>\n",
       "      <td>0.59</td>\n",
       "      <td>0.0</td>\n",
       "      <td>1.66</td>\n",
       "      <td>0.0</td>\n",
       "      <td>2.04</td>\n",
       "      <td>0.0</td>\n",
       "      <td>0.03</td>\n",
       "      <td>...</td>\n",
       "      <td>0.00</td>\n",
       "      <td>0.32</td>\n",
       "      <td>0.05</td>\n",
       "      <td>0.01</td>\n",
       "      <td>0.25</td>\n",
       "      <td>0.01</td>\n",
       "      <td>0.02</td>\n",
       "      <td>245</td>\n",
       "      <td>bot</td>\n",
       "      <td>bot</td>\n",
       "    </tr>\n",
       "    <tr>\n",
       "      <th>2</th>\n",
       "      <td>25395a7dbd2caa3d828bb3dbd57d8857</td>\n",
       "      <td>2.05</td>\n",
       "      <td>3.02</td>\n",
       "      <td>0.50</td>\n",
       "      <td>0.0</td>\n",
       "      <td>1.21</td>\n",
       "      <td>0.0</td>\n",
       "      <td>1.58</td>\n",
       "      <td>0.0</td>\n",
       "      <td>0.07</td>\n",
       "      <td>...</td>\n",
       "      <td>0.01</td>\n",
       "      <td>0.11</td>\n",
       "      <td>0.08</td>\n",
       "      <td>0.02</td>\n",
       "      <td>0.18</td>\n",
       "      <td>0.00</td>\n",
       "      <td>0.01</td>\n",
       "      <td>271</td>\n",
       "      <td>bot</td>\n",
       "      <td>bot</td>\n",
       "    </tr>\n",
       "    <tr>\n",
       "      <th>3</th>\n",
       "      <td>1c9f161414334b286c4dc70163744390</td>\n",
       "      <td>2.37</td>\n",
       "      <td>2.53</td>\n",
       "      <td>0.54</td>\n",
       "      <td>0.0</td>\n",
       "      <td>1.11</td>\n",
       "      <td>0.0</td>\n",
       "      <td>1.60</td>\n",
       "      <td>0.0</td>\n",
       "      <td>0.01</td>\n",
       "      <td>...</td>\n",
       "      <td>0.01</td>\n",
       "      <td>0.23</td>\n",
       "      <td>0.04</td>\n",
       "      <td>0.02</td>\n",
       "      <td>0.20</td>\n",
       "      <td>0.00</td>\n",
       "      <td>0.00</td>\n",
       "      <td>615</td>\n",
       "      <td>bot</td>\n",
       "      <td>bot</td>\n",
       "    </tr>\n",
       "    <tr>\n",
       "      <th>4</th>\n",
       "      <td>1da1f87b3dc778f28268eec70ce94f19</td>\n",
       "      <td>2.14</td>\n",
       "      <td>2.25</td>\n",
       "      <td>0.33</td>\n",
       "      <td>0.0</td>\n",
       "      <td>1.12</td>\n",
       "      <td>0.0</td>\n",
       "      <td>1.37</td>\n",
       "      <td>0.0</td>\n",
       "      <td>0.08</td>\n",
       "      <td>...</td>\n",
       "      <td>0.00</td>\n",
       "      <td>0.22</td>\n",
       "      <td>0.07</td>\n",
       "      <td>0.01</td>\n",
       "      <td>0.16</td>\n",
       "      <td>0.01</td>\n",
       "      <td>0.02</td>\n",
       "      <td>331</td>\n",
       "      <td>bot</td>\n",
       "      <td>bot</td>\n",
       "    </tr>\n",
       "  </tbody>\n",
       "</table>\n",
       "<p>5 rows × 167 columns</p>\n",
       "</div>"
      ],
      "text/plain": [
       "                                 id  avg_ADJ  avg_ADP  avg_ADV  avg_AUX  \\\n",
       "0  b2d5748083d6fdffec6c2d68d4d4442d     2.49     3.12     0.61      0.0   \n",
       "1   2bed15d46872169dc7deaf8d2b43a56     2.74     3.14     0.59      0.0   \n",
       "2  25395a7dbd2caa3d828bb3dbd57d8857     2.05     3.02     0.50      0.0   \n",
       "3  1c9f161414334b286c4dc70163744390     2.37     2.53     0.54      0.0   \n",
       "4  1da1f87b3dc778f28268eec70ce94f19     2.14     2.25     0.33      0.0   \n",
       "\n",
       "   avg_CCONJ  avg_CONJ  avg_DET  avg_EOL  avg_INTJ  ...  avg_vegetables  \\\n",
       "0       1.54       0.0     1.76      0.0      0.02  ...            0.00   \n",
       "1       1.66       0.0     2.04      0.0      0.03  ...            0.00   \n",
       "2       1.21       0.0     1.58      0.0      0.07  ...            0.01   \n",
       "3       1.11       0.0     1.60      0.0      0.01  ...            0.01   \n",
       "4       1.12       0.0     1.37      0.0      0.08  ...            0.00   \n",
       "\n",
       "   avg_virtues  avg_water  avg_weapons  avg_weather  avg_winter  avg_yard  \\\n",
       "0         0.24       0.09         0.01         0.25        0.00      0.08   \n",
       "1         0.32       0.05         0.01         0.25        0.01      0.02   \n",
       "2         0.11       0.08         0.02         0.18        0.00      0.01   \n",
       "3         0.23       0.04         0.02         0.20        0.00      0.00   \n",
       "4         0.22       0.07         0.01         0.16        0.01      0.02   \n",
       "\n",
       "   maxWordAppearancePerProfile  bot  gender  \n",
       "0                          220  bot     bot  \n",
       "1                          245  bot     bot  \n",
       "2                          271  bot     bot  \n",
       "3                          615  bot     bot  \n",
       "4                          331  bot     bot  \n",
       "\n",
       "[5 rows x 167 columns]"
      ]
     },
     "execution_count": 14,
     "metadata": {},
     "output_type": "execute_result"
    }
   ],
   "source": [
    "df.head()"
   ]
  },
  {
   "cell_type": "code",
   "execution_count": 22,
   "metadata": {},
   "outputs": [],
   "source": [
    "def get_data():\n",
    "    nCols = df.shape[1]\n",
    "    nFeatures = nCols-3\n",
    "    X = df.iloc[:, 1:nFeatures+1]\n",
    "    y_bot = df.iloc[:, nFeatures+1]\n",
    "    y_gender = df.iloc[:, nFeatures+2]\n",
    "    return X, y_bot, y_gender"
   ]
  },
  {
   "cell_type": "code",
   "execution_count": 23,
   "metadata": {},
   "outputs": [],
   "source": [
    "X,y_bot,y_gender=get_data()"
   ]
  },
  {
   "cell_type": "code",
   "execution_count": 33,
   "metadata": {},
   "outputs": [],
   "source": [
    "def standardize(X_train):\n",
    "    cols = X_train.columns\n",
    "    scaler = StandardScaler(copy=True, with_mean=True, with_std=True)\n",
    "    X_train = scaler.fit_transform(X_train)\n",
    "    X_train = pd.DataFrame(X_train, columns=cols)\n",
    "    return X_train"
   ]
  },
  {
   "cell_type": "code",
   "execution_count": 34,
   "metadata": {},
   "outputs": [
    {
     "name": "stderr",
     "output_type": "stream",
     "text": [
      "/data/home/mehta/multimodal/lib/python3.5/site-packages/sklearn/preprocessing/data.py:625: DataConversionWarning: Data with input dtype int64, float64 were all converted to float64 by StandardScaler.\n",
      "  return self.partial_fit(X, y)\n",
      "/data/home/mehta/multimodal/lib/python3.5/site-packages/sklearn/base.py:462: DataConversionWarning: Data with input dtype int64, float64 were all converted to float64 by StandardScaler.\n",
      "  return self.fit(X, **fit_params).transform(X)\n"
     ]
    }
   ],
   "source": [
    "X=standardize(X)"
   ]
  },
  {
   "cell_type": "code",
   "execution_count": 35,
   "metadata": {},
   "outputs": [
    {
     "data": {
      "text/plain": [
       "(4120, 159)"
      ]
     },
     "execution_count": 35,
     "metadata": {},
     "output_type": "execute_result"
    }
   ],
   "source": [
    "nunique = X.apply(pd.Series.nunique)\n",
    "cols_to_drop = nunique[nunique == 1].index\n",
    "X = X.drop(cols_to_drop, axis=1)\n",
    "# X_dev = X_dev.drop(cols_to_drop, axis=1)\n",
    "X.shape"
   ]
  },
  {
   "cell_type": "code",
   "execution_count": 36,
   "metadata": {},
   "outputs": [],
   "source": [
    "genderprediction=gnb_loaded2.predict(X)"
   ]
  },
  {
   "cell_type": "code",
   "execution_count": null,
   "metadata": {},
   "outputs": [],
   "source": []
  }
 ],
 "metadata": {
  "kernelspec": {
   "display_name": "multimodal",
   "language": "python",
   "name": "multimodal"
  },
  "language_info": {
   "codemirror_mode": {
    "name": "ipython",
    "version": 3
   },
   "file_extension": ".py",
   "mimetype": "text/x-python",
   "name": "python",
   "nbconvert_exporter": "python",
   "pygments_lexer": "ipython3",
   "version": "3.5.2"
  }
 },
 "nbformat": 4,
 "nbformat_minor": 2
}
