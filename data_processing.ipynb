{
 "cells": [
  {
   "cell_type": "code",
   "execution_count": null,
   "metadata": {},
   "outputs": [],
   "source": [
    "import xml.etree.ElementTree as ET\n",
    "import pandas as pd\n",
    "import nltk\n",
    "import spacy\n",
    "import sklearn\n",
    "import csv\n",
    "import os\n",
    "\n",
    "nlp = spacy.load('en')\n",
    "\n",
    "# = bot, 1 = male 2 = female\n",
    "\n",
    "X = []\n",
    "y = []\n",
    "\n",
    "array_of_usernames = []\n",
    "\n",
    "path = './pan19-author-profiling-training-2019-01-28/en/'"
   ]
  },
  {
   "cell_type": "code",
   "execution_count": null,
   "metadata": {},
   "outputs": [],
   "source": [
    "xml_data='./pan19-author-profiling-training-2019-01-28/en/af0604e16191e151c6beb4b71c28dbfd.xml'\n",
    "etree = ET.parse(xml_data)"
   ]
  },
  {
   "cell_type": "code",
   "execution_count": null,
   "metadata": {},
   "outputs": [],
   "source": [
    "def iter_docs(author):\n",
    "    author_attr = author.attrib\n",
    "    print(author_attr)\n",
    "    for doc in author.iter('document'):\n",
    "        doc_dict = author_attr.copy()\n",
    "        doc_dict.update(doc.attrib)\n",
    "        doc_dict['data'] = doc.text\n",
    "        yield doc_dict"
   ]
  },
  {
   "cell_type": "code",
   "execution_count": null,
   "metadata": {},
   "outputs": [],
   "source": [
    "doc_df = pd.DataFrame(list(iter_docs(etree.getroot())))"
   ]
  },
  {
   "cell_type": "code",
   "execution_count": null,
   "metadata": {},
   "outputs": [],
   "source": [
    "print(doc_df.data[1])\n",
    "print(doc_df.head()['data'])\n",
    "for elem in doc_df.head()['data']:\n",
    "    docSpacy = nlp(elem)\n",
    "#     print(docSpacy.token)\n",
    "    print('elem', elem)\n",
    "    for token in docSpacy:\n",
    "#         print(token.text)\n",
    "        print('properties', f'text {token.text}', f'lemma_ {token.lemma_}', f'pos_ {token.pos_}', f'tag_ {token.tag_}', f'dep_ {token.dep_}',\n",
    "          f'shape_ {token.shape_}', f' is_alpha {token.is_alpha}', f'is_stop {token.is_stop}')"
   ]
  },
  {
   "cell_type": "code",
   "execution_count": null,
   "metadata": {},
   "outputs": [],
   "source": [
    "data = pd.read_csv('pan19-author-profiling-training-2019-01-28/en/truth.txt', sep=\":::\", header=None, engine='python')\n",
    "data.head(50)"
   ]
  },
  {
   "cell_type": "code",
   "execution_count": null,
   "metadata": {},
   "outputs": [],
   "source": [
    "for i, name, bot, m_or_f in data.itertuples():\n",
    "    array_of_usernames.append((name, bot, m_or_f))"
   ]
  },
  {
   "cell_type": "code",
   "execution_count": null,
   "metadata": {},
   "outputs": [],
   "source": [
    "print(array_of_usernames[:5])"
   ]
  },
  {
   "cell_type": "code",
   "execution_count": null,
   "metadata": {},
   "outputs": [],
   "source": [
    "for name, types, gender in array_of_usernames:\n",
    "#     print(path + name + '.xml')\n",
    "    etree = ET.parse(path + name + '.xml')\n",
    "    doc_df = pd.DataFrame(list(iter_docs(etree.getroot())))\n",
    "    \n",
    "    for elem in doc_df.head()['data']:\n",
    "        X.append(elem)\n",
    "        y.append((types, gender))\n",
    "\n",
    "        \n",
    "        #         print(elem)\n",
    "#         docSpacy = nlp(elem)\n",
    "    #     print(docSpacy.token)\n",
    "#         for token in docSpacy:\n",
    "    #         print(token.text)\n",
    "#             print('properties', f'text {token.text}', f'lemma_ {token.lemma_}', f'pos_ {token.pos_}', f'tag_ {token.tag_}', f'dep_ {token.dep_}',\n",
    "#               f'shape_ {token.shape_}', f' is_alpha {token.is_alpha}', f'is_stop {token.is_stop}')\n",
    "    "
   ]
  },
  {
   "cell_type": "code",
   "execution_count": null,
   "metadata": {
    "scrolled": true
   },
   "outputs": [],
   "source": [
    "print(X[2000:2005])\n",
    "print(y[2000:2005])\n",
    "print(len(X), len(y))"
   ]
  },
  {
   "cell_type": "code",
   "execution_count": null,
   "metadata": {},
   "outputs": [],
   "source": [
    "df_Xy = pd.DataFrame(X, columns=['X'])\n",
    "print(df_Xy.head())\n",
    "df_Xy['y'] = y\n",
    "print(df_Xy.head())\n",
    "print(df_Xy['X'][0])"
   ]
  },
  {
   "cell_type": "code",
   "execution_count": null,
   "metadata": {},
   "outputs": [],
   "source": []
  }
 ],
 "metadata": {
  "kernelspec": {
   "display_name": "Python 3",
   "language": "python",
   "name": "python3"
  },
  "language_info": {
   "codemirror_mode": {
    "name": "ipython",
    "version": 3
   },
   "file_extension": ".py",
   "mimetype": "text/x-python",
   "name": "python",
   "nbconvert_exporter": "python",
   "pygments_lexer": "ipython3",
   "version": "3.6.7"
  }
 },
 "nbformat": 4,
 "nbformat_minor": 2
}
